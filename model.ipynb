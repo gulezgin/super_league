{
 "cells": [
  {
   "cell_type": "code",
   "execution_count": 1,
   "metadata": {},
   "outputs": [],
   "source": [
    "import numpy as np\n",
    "import pandas as pd\n",
    "import matplotlib.pyplot as plt"
   ]
  },
  {
   "cell_type": "code",
   "execution_count": 1,
   "metadata": {},
   "outputs": [],
   "source": [
    "import numpy as np\n",
    "import pandas as pd\n",
    "import matplotlib.pyplot as plt"
   ]
  },
  {
   "cell_type": "code",
   "execution_count": 26,
   "metadata": {},
   "outputs": [
    {
     "data": {
      "text/html": [
       "<div>\n",
       "<style scoped>\n",
       "    .dataframe tbody tr th:only-of-type {\n",
       "        vertical-align: middle;\n",
       "    }\n",
       "\n",
       "    .dataframe tbody tr th {\n",
       "        vertical-align: top;\n",
       "    }\n",
       "\n",
       "    .dataframe thead th {\n",
       "        text-align: right;\n",
       "    }\n",
       "</style>\n",
       "<table border=\"1\" class=\"dataframe\">\n",
       "  <thead>\n",
       "    <tr style=\"text-align: right;\">\n",
       "      <th></th>\n",
       "      <th>week</th>\n",
       "      <th>home</th>\n",
       "      <th>away</th>\n",
       "      <th>goal1</th>\n",
       "      <th>goal2</th>\n",
       "      <th>result</th>\n",
       "      <th>home_form</th>\n",
       "      <th>away_form</th>\n",
       "      <th>home_rank</th>\n",
       "      <th>away_rank</th>\n",
       "    </tr>\n",
       "  </thead>\n",
       "  <tbody>\n",
       "    <tr>\n",
       "      <th>0</th>\n",
       "      <td>6</td>\n",
       "      <td>KASIMPAŞA</td>\n",
       "      <td>GÖZTEPE</td>\n",
       "      <td>0</td>\n",
       "      <td>0</td>\n",
       "      <td>0</td>\n",
       "      <td>1.40</td>\n",
       "      <td>1.2</td>\n",
       "      <td>8</td>\n",
       "      <td>10</td>\n",
       "    </tr>\n",
       "    <tr>\n",
       "      <th>1</th>\n",
       "      <td>6</td>\n",
       "      <td>GAZİANTEP</td>\n",
       "      <td>KONYASPOR</td>\n",
       "      <td>1</td>\n",
       "      <td>0</td>\n",
       "      <td>1</td>\n",
       "      <td>0.80</td>\n",
       "      <td>1.5</td>\n",
       "      <td>17</td>\n",
       "      <td>11</td>\n",
       "    </tr>\n",
       "    <tr>\n",
       "      <th>2</th>\n",
       "      <td>6</td>\n",
       "      <td>ERZURUMSPOR</td>\n",
       "      <td>GALATASARAY</td>\n",
       "      <td>1</td>\n",
       "      <td>2</td>\n",
       "      <td>2</td>\n",
       "      <td>1.40</td>\n",
       "      <td>1.4</td>\n",
       "      <td>9</td>\n",
       "      <td>6</td>\n",
       "    </tr>\n",
       "    <tr>\n",
       "      <th>3</th>\n",
       "      <td>6</td>\n",
       "      <td>BAŞAKŞEHİR</td>\n",
       "      <td>ANTALYASPOR</td>\n",
       "      <td>5</td>\n",
       "      <td>1</td>\n",
       "      <td>1</td>\n",
       "      <td>0.80</td>\n",
       "      <td>1.6</td>\n",
       "      <td>20</td>\n",
       "      <td>5</td>\n",
       "    </tr>\n",
       "    <tr>\n",
       "      <th>4</th>\n",
       "      <td>6</td>\n",
       "      <td>MALATYASPOR</td>\n",
       "      <td>GENÇLERBİRLİĞİ</td>\n",
       "      <td>2</td>\n",
       "      <td>1</td>\n",
       "      <td>1</td>\n",
       "      <td>1.00</td>\n",
       "      <td>1.0</td>\n",
       "      <td>15</td>\n",
       "      <td>19</td>\n",
       "    </tr>\n",
       "    <tr>\n",
       "      <th>...</th>\n",
       "      <td>...</td>\n",
       "      <td>...</td>\n",
       "      <td>...</td>\n",
       "      <td>...</td>\n",
       "      <td>...</td>\n",
       "      <td>...</td>\n",
       "      <td>...</td>\n",
       "      <td>...</td>\n",
       "      <td>...</td>\n",
       "      <td>...</td>\n",
       "    </tr>\n",
       "    <tr>\n",
       "      <th>365</th>\n",
       "      <td>42</td>\n",
       "      <td>ANTALYASPOR</td>\n",
       "      <td>KONYASPOR</td>\n",
       "      <td>0</td>\n",
       "      <td>0</td>\n",
       "      <td>0</td>\n",
       "      <td>0.25</td>\n",
       "      <td>1.6</td>\n",
       "      <td>16</td>\n",
       "      <td>11</td>\n",
       "    </tr>\n",
       "    <tr>\n",
       "      <th>366</th>\n",
       "      <td>42</td>\n",
       "      <td>KAYSERİSPOR</td>\n",
       "      <td>FENERBAHÇE</td>\n",
       "      <td>1</td>\n",
       "      <td>2</td>\n",
       "      <td>2</td>\n",
       "      <td>1.20</td>\n",
       "      <td>2.0</td>\n",
       "      <td>17</td>\n",
       "      <td>3</td>\n",
       "    </tr>\n",
       "    <tr>\n",
       "      <th>367</th>\n",
       "      <td>42</td>\n",
       "      <td>GALATASARAY</td>\n",
       "      <td>MALATYASPOR</td>\n",
       "      <td>3</td>\n",
       "      <td>1</td>\n",
       "      <td>1</td>\n",
       "      <td>3.00</td>\n",
       "      <td>1.6</td>\n",
       "      <td>2</td>\n",
       "      <td>14</td>\n",
       "    </tr>\n",
       "    <tr>\n",
       "      <th>368</th>\n",
       "      <td>42</td>\n",
       "      <td>GÖZTEPE</td>\n",
       "      <td>BEŞİKTAŞ</td>\n",
       "      <td>1</td>\n",
       "      <td>2</td>\n",
       "      <td>2</td>\n",
       "      <td>1.00</td>\n",
       "      <td>1.8</td>\n",
       "      <td>10</td>\n",
       "      <td>1</td>\n",
       "    </tr>\n",
       "    <tr>\n",
       "      <th>369</th>\n",
       "      <td>42</td>\n",
       "      <td>TRABZONSPOR</td>\n",
       "      <td>GENÇLERBİRLİĞİ</td>\n",
       "      <td>2</td>\n",
       "      <td>1</td>\n",
       "      <td>1</td>\n",
       "      <td>2.00</td>\n",
       "      <td>1.2</td>\n",
       "      <td>4</td>\n",
       "      <td>20</td>\n",
       "    </tr>\n",
       "  </tbody>\n",
       "</table>\n",
       "<p>370 rows × 10 columns</p>\n",
       "</div>"
      ],
      "text/plain": [
       "     week         home            away  goal1  goal2  result  home_form  \\\n",
       "0       6    KASIMPAŞA         GÖZTEPE      0      0       0       1.40   \n",
       "1       6    GAZİANTEP       KONYASPOR      1      0       1       0.80   \n",
       "2       6  ERZURUMSPOR     GALATASARAY      1      2       2       1.40   \n",
       "3       6   BAŞAKŞEHİR     ANTALYASPOR      5      1       1       0.80   \n",
       "4       6  MALATYASPOR  GENÇLERBİRLİĞİ      2      1       1       1.00   \n",
       "..    ...          ...             ...    ...    ...     ...        ...   \n",
       "365    42  ANTALYASPOR       KONYASPOR      0      0       0       0.25   \n",
       "366    42  KAYSERİSPOR      FENERBAHÇE      1      2       2       1.20   \n",
       "367    42  GALATASARAY     MALATYASPOR      3      1       1       3.00   \n",
       "368    42      GÖZTEPE        BEŞİKTAŞ      1      2       2       1.00   \n",
       "369    42  TRABZONSPOR  GENÇLERBİRLİĞİ      2      1       1       2.00   \n",
       "\n",
       "     away_form  home_rank  away_rank  \n",
       "0          1.2          8         10  \n",
       "1          1.5         17         11  \n",
       "2          1.4          9          6  \n",
       "3          1.6         20          5  \n",
       "4          1.0         15         19  \n",
       "..         ...        ...        ...  \n",
       "365        1.6         16         11  \n",
       "366        2.0         17          3  \n",
       "367        1.6          2         14  \n",
       "368        1.8         10          1  \n",
       "369        1.2          4         20  \n",
       "\n",
       "[370 rows x 10 columns]"
      ]
     },
     "execution_count": 26,
     "metadata": {},
     "output_type": "execute_result"
    }
   ],
   "source": [
    "df1 = pd.read_csv(\"super_league_2020_2021.csv\")\n",
    "df1.drop(\"Unnamed: 0\", axis=1, inplace=True)\n",
    "df1"
   ]
  },
  {
   "cell_type": "code",
   "execution_count": 3,
   "metadata": {},
   "outputs": [
    {
     "data": {
      "text/html": [
       "<div>\n",
       "<style scoped>\n",
       "    .dataframe tbody tr th:only-of-type {\n",
       "        vertical-align: middle;\n",
       "    }\n",
       "\n",
       "    .dataframe tbody tr th {\n",
       "        vertical-align: top;\n",
       "    }\n",
       "\n",
       "    .dataframe thead th {\n",
       "        text-align: right;\n",
       "    }\n",
       "</style>\n",
       "<table border=\"1\" class=\"dataframe\">\n",
       "  <thead>\n",
       "    <tr style=\"text-align: right;\">\n",
       "      <th></th>\n",
       "      <th>week</th>\n",
       "      <th>home</th>\n",
       "      <th>away</th>\n",
       "      <th>goal1</th>\n",
       "      <th>goal2</th>\n",
       "      <th>result</th>\n",
       "      <th>home_form</th>\n",
       "      <th>away_form</th>\n",
       "      <th>home_rank</th>\n",
       "      <th>away_rank</th>\n",
       "    </tr>\n",
       "  </thead>\n",
       "  <tbody>\n",
       "  </tbody>\n",
       "</table>\n",
       "</div>"
      ],
      "text/plain": [
       "Empty DataFrame\n",
       "Columns: [week, home, away, goal1, goal2, result, home_form, away_form, home_rank, away_rank]\n",
       "Index: []"
      ]
     },
     "execution_count": 3,
     "metadata": {},
     "output_type": "execute_result"
    }
   ],
   "source": [
    "df1[df1.isnull().any(axis=1)]"
   ]
  },
  {
   "cell_type": "code",
   "execution_count": 4,
   "metadata": {},
   "outputs": [],
   "source": [
    "#df1.dropna(axis=0, inplace=True)"
   ]
  },
  {
   "cell_type": "code",
   "execution_count": 5,
   "metadata": {},
   "outputs": [],
   "source": [
    "df1 = df1.reset_index()"
   ]
  },
  {
   "cell_type": "code",
   "execution_count": 6,
   "metadata": {},
   "outputs": [
    {
     "data": {
      "text/plain": [
       "array(['KASIMPAŞA', 'GAZİANTEP', 'ERZURUMSPOR', 'BAŞAKŞEHİR',\n",
       "       'MALATYASPOR', 'ALANYASPOR', 'FENERBAHÇE', 'SİVASSPOR',\n",
       "       'DENİZLİSPOR', 'ANKARAGÜCÜ', 'KARAGÜMRÜK', 'TRABZONSPOR',\n",
       "       'GENÇLERBİRLİĞİ', 'GALATASARAY', 'RİZESPOR', 'KONYASPOR',\n",
       "       'BEŞİKTAŞ', 'HATAYSPOR', 'ANTALYASPOR', 'GÖZTEPE', 'KAYSERİSPOR'],\n",
       "      dtype=object)"
      ]
     },
     "execution_count": 6,
     "metadata": {},
     "output_type": "execute_result"
    }
   ],
   "source": [
    "df1[\"home\"].unique()"
   ]
  },
  {
   "cell_type": "code",
   "execution_count": 7,
   "metadata": {},
   "outputs": [
    {
     "data": {
      "text/html": [
       "<div>\n",
       "<style scoped>\n",
       "    .dataframe tbody tr th:only-of-type {\n",
       "        vertical-align: middle;\n",
       "    }\n",
       "\n",
       "    .dataframe tbody tr th {\n",
       "        vertical-align: top;\n",
       "    }\n",
       "\n",
       "    .dataframe thead th {\n",
       "        text-align: right;\n",
       "    }\n",
       "</style>\n",
       "<table border=\"1\" class=\"dataframe\">\n",
       "  <thead>\n",
       "    <tr style=\"text-align: right;\">\n",
       "      <th></th>\n",
       "      <th>index</th>\n",
       "      <th>week</th>\n",
       "      <th>home</th>\n",
       "      <th>away</th>\n",
       "      <th>goal1</th>\n",
       "      <th>goal2</th>\n",
       "      <th>result</th>\n",
       "      <th>home_rank</th>\n",
       "      <th>away_rank</th>\n",
       "      <th>home_form</th>\n",
       "      <th>away_form</th>\n",
       "    </tr>\n",
       "  </thead>\n",
       "  <tbody>\n",
       "    <tr>\n",
       "      <th>0</th>\n",
       "      <td>45</td>\n",
       "      <td>6</td>\n",
       "      <td>AKHİSAR</td>\n",
       "      <td>GENÇLERBİRLİĞİ</td>\n",
       "      <td>0</td>\n",
       "      <td>0</td>\n",
       "      <td>0</td>\n",
       "      <td>14</td>\n",
       "      <td>5</td>\n",
       "      <td>0.8</td>\n",
       "      <td>1.8</td>\n",
       "    </tr>\n",
       "    <tr>\n",
       "      <th>1</th>\n",
       "      <td>46</td>\n",
       "      <td>6</td>\n",
       "      <td>KASIMPAŞA</td>\n",
       "      <td>KAYSERİSPOR</td>\n",
       "      <td>3</td>\n",
       "      <td>1</td>\n",
       "      <td>1</td>\n",
       "      <td>18</td>\n",
       "      <td>13</td>\n",
       "      <td>0.2</td>\n",
       "      <td>1.0</td>\n",
       "    </tr>\n",
       "    <tr>\n",
       "      <th>2</th>\n",
       "      <td>47</td>\n",
       "      <td>6</td>\n",
       "      <td>KARABÜKSPOR</td>\n",
       "      <td>TRABZONSPOR</td>\n",
       "      <td>4</td>\n",
       "      <td>0</td>\n",
       "      <td>1</td>\n",
       "      <td>10</td>\n",
       "      <td>11</td>\n",
       "      <td>1.2</td>\n",
       "      <td>1.2</td>\n",
       "    </tr>\n",
       "    <tr>\n",
       "      <th>3</th>\n",
       "      <td>48</td>\n",
       "      <td>6</td>\n",
       "      <td>GAZİANTEPSPOR</td>\n",
       "      <td>BURSASPOR</td>\n",
       "      <td>3</td>\n",
       "      <td>2</td>\n",
       "      <td>1</td>\n",
       "      <td>15</td>\n",
       "      <td>2</td>\n",
       "      <td>0.8</td>\n",
       "      <td>2.4</td>\n",
       "    </tr>\n",
       "    <tr>\n",
       "      <th>4</th>\n",
       "      <td>49</td>\n",
       "      <td>6</td>\n",
       "      <td>RİZESPOR</td>\n",
       "      <td>BEŞİKTAŞ</td>\n",
       "      <td>0</td>\n",
       "      <td>1</td>\n",
       "      <td>2</td>\n",
       "      <td>16</td>\n",
       "      <td>3</td>\n",
       "      <td>0.8</td>\n",
       "      <td>2.2</td>\n",
       "    </tr>\n",
       "    <tr>\n",
       "      <th>...</th>\n",
       "      <td>...</td>\n",
       "      <td>...</td>\n",
       "      <td>...</td>\n",
       "      <td>...</td>\n",
       "      <td>...</td>\n",
       "      <td>...</td>\n",
       "      <td>...</td>\n",
       "      <td>...</td>\n",
       "      <td>...</td>\n",
       "      <td>...</td>\n",
       "      <td>...</td>\n",
       "    </tr>\n",
       "    <tr>\n",
       "      <th>256</th>\n",
       "      <td>301</td>\n",
       "      <td>34</td>\n",
       "      <td>ADANASPOR</td>\n",
       "      <td>FENERBAHÇE</td>\n",
       "      <td>1</td>\n",
       "      <td>3</td>\n",
       "      <td>2</td>\n",
       "      <td>18</td>\n",
       "      <td>3</td>\n",
       "      <td>1.0</td>\n",
       "      <td>1.6</td>\n",
       "    </tr>\n",
       "    <tr>\n",
       "      <th>257</th>\n",
       "      <td>302</td>\n",
       "      <td>34</td>\n",
       "      <td>GALATASARAY</td>\n",
       "      <td>KONYASPOR</td>\n",
       "      <td>2</td>\n",
       "      <td>1</td>\n",
       "      <td>1</td>\n",
       "      <td>4</td>\n",
       "      <td>10</td>\n",
       "      <td>2.4</td>\n",
       "      <td>0.8</td>\n",
       "    </tr>\n",
       "    <tr>\n",
       "      <th>258</th>\n",
       "      <td>303</td>\n",
       "      <td>34</td>\n",
       "      <td>RİZESPOR</td>\n",
       "      <td>ALANYASPOR</td>\n",
       "      <td>1</td>\n",
       "      <td>0</td>\n",
       "      <td>1</td>\n",
       "      <td>16</td>\n",
       "      <td>11</td>\n",
       "      <td>1.8</td>\n",
       "      <td>1.2</td>\n",
       "    </tr>\n",
       "    <tr>\n",
       "      <th>259</th>\n",
       "      <td>304</td>\n",
       "      <td>34</td>\n",
       "      <td>BEŞİKTAŞ</td>\n",
       "      <td>OSMANLISPOR</td>\n",
       "      <td>4</td>\n",
       "      <td>0</td>\n",
       "      <td>1</td>\n",
       "      <td>1</td>\n",
       "      <td>13</td>\n",
       "      <td>2.0</td>\n",
       "      <td>0.2</td>\n",
       "    </tr>\n",
       "    <tr>\n",
       "      <th>260</th>\n",
       "      <td>305</td>\n",
       "      <td>34</td>\n",
       "      <td>TRABZONSPOR</td>\n",
       "      <td>BURSASPOR</td>\n",
       "      <td>1</td>\n",
       "      <td>2</td>\n",
       "      <td>2</td>\n",
       "      <td>6</td>\n",
       "      <td>15</td>\n",
       "      <td>0.8</td>\n",
       "      <td>0.0</td>\n",
       "    </tr>\n",
       "  </tbody>\n",
       "</table>\n",
       "<p>261 rows × 11 columns</p>\n",
       "</div>"
      ],
      "text/plain": [
       "     index  week           home            away  goal1  goal2  result  \\\n",
       "0       45     6        AKHİSAR  GENÇLERBİRLİĞİ      0      0       0   \n",
       "1       46     6      KASIMPAŞA     KAYSERİSPOR      3      1       1   \n",
       "2       47     6    KARABÜKSPOR     TRABZONSPOR      4      0       1   \n",
       "3       48     6  GAZİANTEPSPOR       BURSASPOR      3      2       1   \n",
       "4       49     6       RİZESPOR        BEŞİKTAŞ      0      1       2   \n",
       "..     ...   ...            ...             ...    ...    ...     ...   \n",
       "256    301    34      ADANASPOR      FENERBAHÇE      1      3       2   \n",
       "257    302    34    GALATASARAY       KONYASPOR      2      1       1   \n",
       "258    303    34       RİZESPOR      ALANYASPOR      1      0       1   \n",
       "259    304    34       BEŞİKTAŞ     OSMANLISPOR      4      0       1   \n",
       "260    305    34    TRABZONSPOR       BURSASPOR      1      2       2   \n",
       "\n",
       "     home_rank  away_rank  home_form  away_form  \n",
       "0           14          5        0.8        1.8  \n",
       "1           18         13        0.2        1.0  \n",
       "2           10         11        1.2        1.2  \n",
       "3           15          2        0.8        2.4  \n",
       "4           16          3        0.8        2.2  \n",
       "..         ...        ...        ...        ...  \n",
       "256         18          3        1.0        1.6  \n",
       "257          4         10        2.4        0.8  \n",
       "258         16         11        1.8        1.2  \n",
       "259          1         13        2.0        0.2  \n",
       "260          6         15        0.8        0.0  \n",
       "\n",
       "[261 rows x 11 columns]"
      ]
     },
     "execution_count": 7,
     "metadata": {},
     "output_type": "execute_result"
    }
   ],
   "source": [
    "df2 = pd.read_csv(\"super_league_2016-2017.csv\")\n",
    "df2.drop(\"Unnamed: 0\", axis=1, inplace=True)\n",
    "df2"
   ]
  },
  {
   "cell_type": "code",
   "execution_count": 8,
   "metadata": {},
   "outputs": [
    {
     "data": {
      "text/html": [
       "<div>\n",
       "<style scoped>\n",
       "    .dataframe tbody tr th:only-of-type {\n",
       "        vertical-align: middle;\n",
       "    }\n",
       "\n",
       "    .dataframe tbody tr th {\n",
       "        vertical-align: top;\n",
       "    }\n",
       "\n",
       "    .dataframe thead th {\n",
       "        text-align: right;\n",
       "    }\n",
       "</style>\n",
       "<table border=\"1\" class=\"dataframe\">\n",
       "  <thead>\n",
       "    <tr style=\"text-align: right;\">\n",
       "      <th></th>\n",
       "      <th>index</th>\n",
       "      <th>week</th>\n",
       "      <th>home</th>\n",
       "      <th>away</th>\n",
       "      <th>goal1</th>\n",
       "      <th>goal2</th>\n",
       "      <th>result</th>\n",
       "      <th>home_rank</th>\n",
       "      <th>away_rank</th>\n",
       "      <th>home_form</th>\n",
       "      <th>away_form</th>\n",
       "    </tr>\n",
       "  </thead>\n",
       "  <tbody>\n",
       "    <tr>\n",
       "      <th>0</th>\n",
       "      <td>45</td>\n",
       "      <td>6</td>\n",
       "      <td>TRABZONSPOR</td>\n",
       "      <td>ALANYASPOR</td>\n",
       "      <td>3</td>\n",
       "      <td>4</td>\n",
       "      <td>2</td>\n",
       "      <td>9</td>\n",
       "      <td>14</td>\n",
       "      <td>1.6</td>\n",
       "      <td>0.8</td>\n",
       "    </tr>\n",
       "    <tr>\n",
       "      <th>1</th>\n",
       "      <td>46</td>\n",
       "      <td>6</td>\n",
       "      <td>KONYASPOR</td>\n",
       "      <td>AKHİSAR</td>\n",
       "      <td>2</td>\n",
       "      <td>0</td>\n",
       "      <td>1</td>\n",
       "      <td>15</td>\n",
       "      <td>6</td>\n",
       "      <td>0.6</td>\n",
       "      <td>2.0</td>\n",
       "    </tr>\n",
       "    <tr>\n",
       "      <th>2</th>\n",
       "      <td>47</td>\n",
       "      <td>6</td>\n",
       "      <td>GENÇLERBİRLİĞİ</td>\n",
       "      <td>BAŞAKŞEHİR</td>\n",
       "      <td>1</td>\n",
       "      <td>0</td>\n",
       "      <td>1</td>\n",
       "      <td>17</td>\n",
       "      <td>5</td>\n",
       "      <td>0.2</td>\n",
       "      <td>2.0</td>\n",
       "    </tr>\n",
       "    <tr>\n",
       "      <th>3</th>\n",
       "      <td>48</td>\n",
       "      <td>6</td>\n",
       "      <td>FENERBAHÇE</td>\n",
       "      <td>BEŞİKTAŞ</td>\n",
       "      <td>2</td>\n",
       "      <td>1</td>\n",
       "      <td>1</td>\n",
       "      <td>8</td>\n",
       "      <td>2</td>\n",
       "      <td>1.6</td>\n",
       "      <td>2.6</td>\n",
       "    </tr>\n",
       "    <tr>\n",
       "      <th>4</th>\n",
       "      <td>49</td>\n",
       "      <td>6</td>\n",
       "      <td>SİVASSPOR</td>\n",
       "      <td>GÖZTEPE</td>\n",
       "      <td>2</td>\n",
       "      <td>3</td>\n",
       "      <td>2</td>\n",
       "      <td>11</td>\n",
       "      <td>3</td>\n",
       "      <td>1.2</td>\n",
       "      <td>2.0</td>\n",
       "    </tr>\n",
       "    <tr>\n",
       "      <th>...</th>\n",
       "      <td>...</td>\n",
       "      <td>...</td>\n",
       "      <td>...</td>\n",
       "      <td>...</td>\n",
       "      <td>...</td>\n",
       "      <td>...</td>\n",
       "      <td>...</td>\n",
       "      <td>...</td>\n",
       "      <td>...</td>\n",
       "      <td>...</td>\n",
       "      <td>...</td>\n",
       "    </tr>\n",
       "    <tr>\n",
       "      <th>256</th>\n",
       "      <td>301</td>\n",
       "      <td>34</td>\n",
       "      <td>AKHİSAR</td>\n",
       "      <td>OSMANLISPOR</td>\n",
       "      <td>2</td>\n",
       "      <td>1</td>\n",
       "      <td>1</td>\n",
       "      <td>12</td>\n",
       "      <td>16</td>\n",
       "      <td>1.0</td>\n",
       "      <td>1.0</td>\n",
       "    </tr>\n",
       "    <tr>\n",
       "      <th>257</th>\n",
       "      <td>302</td>\n",
       "      <td>34</td>\n",
       "      <td>GÖZTEPE</td>\n",
       "      <td>GALATASARAY</td>\n",
       "      <td>0</td>\n",
       "      <td>1</td>\n",
       "      <td>2</td>\n",
       "      <td>6</td>\n",
       "      <td>1</td>\n",
       "      <td>1.8</td>\n",
       "      <td>3.0</td>\n",
       "    </tr>\n",
       "    <tr>\n",
       "      <th>258</th>\n",
       "      <td>303</td>\n",
       "      <td>34</td>\n",
       "      <td>BAŞAKŞEHİR</td>\n",
       "      <td>KASIMPAŞA</td>\n",
       "      <td>3</td>\n",
       "      <td>2</td>\n",
       "      <td>1</td>\n",
       "      <td>3</td>\n",
       "      <td>8</td>\n",
       "      <td>2.0</td>\n",
       "      <td>1.8</td>\n",
       "    </tr>\n",
       "    <tr>\n",
       "      <th>259</th>\n",
       "      <td>304</td>\n",
       "      <td>34</td>\n",
       "      <td>BEŞİKTAŞ</td>\n",
       "      <td>SİVASSPOR</td>\n",
       "      <td>5</td>\n",
       "      <td>1</td>\n",
       "      <td>1</td>\n",
       "      <td>4</td>\n",
       "      <td>7</td>\n",
       "      <td>2.4</td>\n",
       "      <td>1.6</td>\n",
       "    </tr>\n",
       "    <tr>\n",
       "      <th>260</th>\n",
       "      <td>305</td>\n",
       "      <td>34</td>\n",
       "      <td>FENERBAHÇE</td>\n",
       "      <td>KONYASPOR</td>\n",
       "      <td>3</td>\n",
       "      <td>2</td>\n",
       "      <td>1</td>\n",
       "      <td>2</td>\n",
       "      <td>15</td>\n",
       "      <td>3.0</td>\n",
       "      <td>1.6</td>\n",
       "    </tr>\n",
       "  </tbody>\n",
       "</table>\n",
       "<p>261 rows × 11 columns</p>\n",
       "</div>"
      ],
      "text/plain": [
       "     index  week            home         away  goal1  goal2  result  \\\n",
       "0       45     6     TRABZONSPOR   ALANYASPOR      3      4       2   \n",
       "1       46     6       KONYASPOR      AKHİSAR      2      0       1   \n",
       "2       47     6  GENÇLERBİRLİĞİ   BAŞAKŞEHİR      1      0       1   \n",
       "3       48     6      FENERBAHÇE     BEŞİKTAŞ      2      1       1   \n",
       "4       49     6       SİVASSPOR      GÖZTEPE      2      3       2   \n",
       "..     ...   ...             ...          ...    ...    ...     ...   \n",
       "256    301    34         AKHİSAR  OSMANLISPOR      2      1       1   \n",
       "257    302    34         GÖZTEPE  GALATASARAY      0      1       2   \n",
       "258    303    34      BAŞAKŞEHİR    KASIMPAŞA      3      2       1   \n",
       "259    304    34        BEŞİKTAŞ    SİVASSPOR      5      1       1   \n",
       "260    305    34      FENERBAHÇE    KONYASPOR      3      2       1   \n",
       "\n",
       "     home_rank  away_rank  home_form  away_form  \n",
       "0            9         14        1.6        0.8  \n",
       "1           15          6        0.6        2.0  \n",
       "2           17          5        0.2        2.0  \n",
       "3            8          2        1.6        2.6  \n",
       "4           11          3        1.2        2.0  \n",
       "..         ...        ...        ...        ...  \n",
       "256         12         16        1.0        1.0  \n",
       "257          6          1        1.8        3.0  \n",
       "258          3          8        2.0        1.8  \n",
       "259          4          7        2.4        1.6  \n",
       "260          2         15        3.0        1.6  \n",
       "\n",
       "[261 rows x 11 columns]"
      ]
     },
     "execution_count": 8,
     "metadata": {},
     "output_type": "execute_result"
    }
   ],
   "source": [
    "df3 = pd.read_csv(\"super_league_2017-2018.csv\")\n",
    "df3.drop(\"Unnamed: 0\", axis=1, inplace=True)\n",
    "df3"
   ]
  },
  {
   "cell_type": "code",
   "execution_count": 9,
   "metadata": {},
   "outputs": [
    {
     "data": {
      "text/html": [
       "<div>\n",
       "<style scoped>\n",
       "    .dataframe tbody tr th:only-of-type {\n",
       "        vertical-align: middle;\n",
       "    }\n",
       "\n",
       "    .dataframe tbody tr th {\n",
       "        vertical-align: top;\n",
       "    }\n",
       "\n",
       "    .dataframe thead th {\n",
       "        text-align: right;\n",
       "    }\n",
       "</style>\n",
       "<table border=\"1\" class=\"dataframe\">\n",
       "  <thead>\n",
       "    <tr style=\"text-align: right;\">\n",
       "      <th></th>\n",
       "      <th>index</th>\n",
       "      <th>week</th>\n",
       "      <th>home</th>\n",
       "      <th>away</th>\n",
       "      <th>goal1</th>\n",
       "      <th>goal2</th>\n",
       "      <th>result</th>\n",
       "      <th>home_rank</th>\n",
       "      <th>away_rank</th>\n",
       "      <th>home_form</th>\n",
       "      <th>away_form</th>\n",
       "    </tr>\n",
       "  </thead>\n",
       "  <tbody>\n",
       "    <tr>\n",
       "      <th>0</th>\n",
       "      <td>45</td>\n",
       "      <td>6</td>\n",
       "      <td>ERZURUMSPOR</td>\n",
       "      <td>ANKARAGÜCÜ</td>\n",
       "      <td>0</td>\n",
       "      <td>1</td>\n",
       "      <td>2</td>\n",
       "      <td>17</td>\n",
       "      <td>9</td>\n",
       "      <td>0.4</td>\n",
       "      <td>1.4</td>\n",
       "    </tr>\n",
       "    <tr>\n",
       "      <th>1</th>\n",
       "      <td>46</td>\n",
       "      <td>6</td>\n",
       "      <td>BURSASPOR</td>\n",
       "      <td>BAŞAKŞEHİR</td>\n",
       "      <td>0</td>\n",
       "      <td>0</td>\n",
       "      <td>0</td>\n",
       "      <td>15</td>\n",
       "      <td>2</td>\n",
       "      <td>0.8</td>\n",
       "      <td>2.4</td>\n",
       "    </tr>\n",
       "    <tr>\n",
       "      <th>2</th>\n",
       "      <td>47</td>\n",
       "      <td>6</td>\n",
       "      <td>MALATYASPOR</td>\n",
       "      <td>RİZESPOR</td>\n",
       "      <td>1</td>\n",
       "      <td>0</td>\n",
       "      <td>1</td>\n",
       "      <td>8</td>\n",
       "      <td>16</td>\n",
       "      <td>1.4</td>\n",
       "      <td>0.6</td>\n",
       "    </tr>\n",
       "    <tr>\n",
       "      <th>3</th>\n",
       "      <td>48</td>\n",
       "      <td>6</td>\n",
       "      <td>KAYSERİSPOR</td>\n",
       "      <td>KONYASPOR</td>\n",
       "      <td>0</td>\n",
       "      <td>2</td>\n",
       "      <td>2</td>\n",
       "      <td>6</td>\n",
       "      <td>5</td>\n",
       "      <td>1.6</td>\n",
       "      <td>1.6</td>\n",
       "    </tr>\n",
       "    <tr>\n",
       "      <th>4</th>\n",
       "      <td>49</td>\n",
       "      <td>6</td>\n",
       "      <td>TRABZONSPOR</td>\n",
       "      <td>GÖZTEPE</td>\n",
       "      <td>1</td>\n",
       "      <td>2</td>\n",
       "      <td>2</td>\n",
       "      <td>7</td>\n",
       "      <td>12</td>\n",
       "      <td>1.4</td>\n",
       "      <td>1.2</td>\n",
       "    </tr>\n",
       "    <tr>\n",
       "      <th>...</th>\n",
       "      <td>...</td>\n",
       "      <td>...</td>\n",
       "      <td>...</td>\n",
       "      <td>...</td>\n",
       "      <td>...</td>\n",
       "      <td>...</td>\n",
       "      <td>...</td>\n",
       "      <td>...</td>\n",
       "      <td>...</td>\n",
       "      <td>...</td>\n",
       "      <td>...</td>\n",
       "    </tr>\n",
       "    <tr>\n",
       "      <th>256</th>\n",
       "      <td>301</td>\n",
       "      <td>34</td>\n",
       "      <td>KONYASPOR</td>\n",
       "      <td>AKHİSARSPOR</td>\n",
       "      <td>0</td>\n",
       "      <td>0</td>\n",
       "      <td>0</td>\n",
       "      <td>7</td>\n",
       "      <td>18</td>\n",
       "      <td>1.4</td>\n",
       "      <td>0.4</td>\n",
       "    </tr>\n",
       "    <tr>\n",
       "      <th>257</th>\n",
       "      <td>302</td>\n",
       "      <td>34</td>\n",
       "      <td>GÖZTEPE</td>\n",
       "      <td>ANKARAGÜCÜ</td>\n",
       "      <td>2</td>\n",
       "      <td>1</td>\n",
       "      <td>1</td>\n",
       "      <td>15</td>\n",
       "      <td>12</td>\n",
       "      <td>1.6</td>\n",
       "      <td>1.0</td>\n",
       "    </tr>\n",
       "    <tr>\n",
       "      <th>258</th>\n",
       "      <td>303</td>\n",
       "      <td>34</td>\n",
       "      <td>FENERBAHÇE</td>\n",
       "      <td>ANTALYASPOR</td>\n",
       "      <td>3</td>\n",
       "      <td>1</td>\n",
       "      <td>1</td>\n",
       "      <td>8</td>\n",
       "      <td>6</td>\n",
       "      <td>2.0</td>\n",
       "      <td>1.4</td>\n",
       "    </tr>\n",
       "    <tr>\n",
       "      <th>259</th>\n",
       "      <td>304</td>\n",
       "      <td>34</td>\n",
       "      <td>KAYSERİSPOR</td>\n",
       "      <td>ERZURUMSPOR</td>\n",
       "      <td>0</td>\n",
       "      <td>2</td>\n",
       "      <td>2</td>\n",
       "      <td>11</td>\n",
       "      <td>17</td>\n",
       "      <td>1.0</td>\n",
       "      <td>1.4</td>\n",
       "    </tr>\n",
       "    <tr>\n",
       "      <th>260</th>\n",
       "      <td>305</td>\n",
       "      <td>34</td>\n",
       "      <td>MALATYASPOR</td>\n",
       "      <td>BURSASPOR</td>\n",
       "      <td>1</td>\n",
       "      <td>2</td>\n",
       "      <td>2</td>\n",
       "      <td>5</td>\n",
       "      <td>16</td>\n",
       "      <td>1.8</td>\n",
       "      <td>1.2</td>\n",
       "    </tr>\n",
       "  </tbody>\n",
       "</table>\n",
       "<p>261 rows × 11 columns</p>\n",
       "</div>"
      ],
      "text/plain": [
       "     index  week         home         away  goal1  goal2  result  home_rank  \\\n",
       "0       45     6  ERZURUMSPOR   ANKARAGÜCÜ      0      1       2         17   \n",
       "1       46     6    BURSASPOR   BAŞAKŞEHİR      0      0       0         15   \n",
       "2       47     6  MALATYASPOR     RİZESPOR      1      0       1          8   \n",
       "3       48     6  KAYSERİSPOR    KONYASPOR      0      2       2          6   \n",
       "4       49     6  TRABZONSPOR      GÖZTEPE      1      2       2          7   \n",
       "..     ...   ...          ...          ...    ...    ...     ...        ...   \n",
       "256    301    34    KONYASPOR  AKHİSARSPOR      0      0       0          7   \n",
       "257    302    34      GÖZTEPE   ANKARAGÜCÜ      2      1       1         15   \n",
       "258    303    34   FENERBAHÇE  ANTALYASPOR      3      1       1          8   \n",
       "259    304    34  KAYSERİSPOR  ERZURUMSPOR      0      2       2         11   \n",
       "260    305    34  MALATYASPOR    BURSASPOR      1      2       2          5   \n",
       "\n",
       "     away_rank  home_form  away_form  \n",
       "0            9        0.4        1.4  \n",
       "1            2        0.8        2.4  \n",
       "2           16        1.4        0.6  \n",
       "3            5        1.6        1.6  \n",
       "4           12        1.4        1.2  \n",
       "..         ...        ...        ...  \n",
       "256         18        1.4        0.4  \n",
       "257         12        1.6        1.0  \n",
       "258          6        2.0        1.4  \n",
       "259         17        1.0        1.4  \n",
       "260         16        1.8        1.2  \n",
       "\n",
       "[261 rows x 11 columns]"
      ]
     },
     "execution_count": 9,
     "metadata": {},
     "output_type": "execute_result"
    }
   ],
   "source": [
    "df4 = pd.read_csv(\"super_league_2018-2019.csv\")\n",
    "df4.drop(\"Unnamed: 0\", axis=1, inplace=True)\n",
    "df4"
   ]
  },
  {
   "cell_type": "code",
   "execution_count": 10,
   "metadata": {},
   "outputs": [
    {
     "data": {
      "text/html": [
       "<div>\n",
       "<style scoped>\n",
       "    .dataframe tbody tr th:only-of-type {\n",
       "        vertical-align: middle;\n",
       "    }\n",
       "\n",
       "    .dataframe tbody tr th {\n",
       "        vertical-align: top;\n",
       "    }\n",
       "\n",
       "    .dataframe thead th {\n",
       "        text-align: right;\n",
       "    }\n",
       "</style>\n",
       "<table border=\"1\" class=\"dataframe\">\n",
       "  <thead>\n",
       "    <tr style=\"text-align: right;\">\n",
       "      <th></th>\n",
       "      <th>index</th>\n",
       "      <th>week</th>\n",
       "      <th>home</th>\n",
       "      <th>away</th>\n",
       "      <th>goal1</th>\n",
       "      <th>goal2</th>\n",
       "      <th>result</th>\n",
       "      <th>home_rank</th>\n",
       "      <th>away_rank</th>\n",
       "      <th>home_form</th>\n",
       "      <th>away_form</th>\n",
       "    </tr>\n",
       "  </thead>\n",
       "  <tbody>\n",
       "    <tr>\n",
       "      <th>0</th>\n",
       "      <td>45</td>\n",
       "      <td>6</td>\n",
       "      <td>BAŞAKŞEHİR</td>\n",
       "      <td>RİZESPOR</td>\n",
       "      <td>5</td>\n",
       "      <td>0</td>\n",
       "      <td>1</td>\n",
       "      <td>12</td>\n",
       "      <td>6</td>\n",
       "      <td>1.0</td>\n",
       "      <td>1.6</td>\n",
       "    </tr>\n",
       "    <tr>\n",
       "      <th>1</th>\n",
       "      <td>46</td>\n",
       "      <td>6</td>\n",
       "      <td>DENİZLİSPOR</td>\n",
       "      <td>KASIMPAŞA</td>\n",
       "      <td>0</td>\n",
       "      <td>1</td>\n",
       "      <td>2</td>\n",
       "      <td>5</td>\n",
       "      <td>16</td>\n",
       "      <td>1.6</td>\n",
       "      <td>0.8</td>\n",
       "    </tr>\n",
       "    <tr>\n",
       "      <th>2</th>\n",
       "      <td>47</td>\n",
       "      <td>6</td>\n",
       "      <td>ALANYASPOR</td>\n",
       "      <td>SİVASSPOR</td>\n",
       "      <td>1</td>\n",
       "      <td>1</td>\n",
       "      <td>0</td>\n",
       "      <td>1</td>\n",
       "      <td>4</td>\n",
       "      <td>2.6</td>\n",
       "      <td>1.6</td>\n",
       "    </tr>\n",
       "    <tr>\n",
       "      <th>3</th>\n",
       "      <td>48</td>\n",
       "      <td>6</td>\n",
       "      <td>GALATASARAY</td>\n",
       "      <td>FENERBAHÇE</td>\n",
       "      <td>0</td>\n",
       "      <td>0</td>\n",
       "      <td>0</td>\n",
       "      <td>7</td>\n",
       "      <td>2</td>\n",
       "      <td>1.6</td>\n",
       "      <td>2.0</td>\n",
       "    </tr>\n",
       "    <tr>\n",
       "      <th>4</th>\n",
       "      <td>49</td>\n",
       "      <td>6</td>\n",
       "      <td>KONYASPOR</td>\n",
       "      <td>KAYSERİSPOR</td>\n",
       "      <td>2</td>\n",
       "      <td>1</td>\n",
       "      <td>1</td>\n",
       "      <td>10</td>\n",
       "      <td>17</td>\n",
       "      <td>1.2</td>\n",
       "      <td>0.6</td>\n",
       "    </tr>\n",
       "    <tr>\n",
       "      <th>...</th>\n",
       "      <td>...</td>\n",
       "      <td>...</td>\n",
       "      <td>...</td>\n",
       "      <td>...</td>\n",
       "      <td>...</td>\n",
       "      <td>...</td>\n",
       "      <td>...</td>\n",
       "      <td>...</td>\n",
       "      <td>...</td>\n",
       "      <td>...</td>\n",
       "      <td>...</td>\n",
       "    </tr>\n",
       "    <tr>\n",
       "      <th>256</th>\n",
       "      <td>301</td>\n",
       "      <td>34</td>\n",
       "      <td>KONYASPOR</td>\n",
       "      <td>ALANYASPOR</td>\n",
       "      <td>2</td>\n",
       "      <td>3</td>\n",
       "      <td>2</td>\n",
       "      <td>13</td>\n",
       "      <td>6</td>\n",
       "      <td>1.8</td>\n",
       "      <td>2.0</td>\n",
       "    </tr>\n",
       "    <tr>\n",
       "      <th>257</th>\n",
       "      <td>302</td>\n",
       "      <td>34</td>\n",
       "      <td>KAYSERİSPOR</td>\n",
       "      <td>TRABZONSPOR</td>\n",
       "      <td>1</td>\n",
       "      <td>2</td>\n",
       "      <td>2</td>\n",
       "      <td>17</td>\n",
       "      <td>2</td>\n",
       "      <td>1.4</td>\n",
       "      <td>1.0</td>\n",
       "    </tr>\n",
       "    <tr>\n",
       "      <th>258</th>\n",
       "      <td>303</td>\n",
       "      <td>34</td>\n",
       "      <td>MALATYASPOR</td>\n",
       "      <td>GAZİANTEP</td>\n",
       "      <td>0</td>\n",
       "      <td>1</td>\n",
       "      <td>2</td>\n",
       "      <td>16</td>\n",
       "      <td>9</td>\n",
       "      <td>0.8</td>\n",
       "      <td>1.8</td>\n",
       "    </tr>\n",
       "    <tr>\n",
       "      <th>259</th>\n",
       "      <td>304</td>\n",
       "      <td>34</td>\n",
       "      <td>FENERBAHÇE</td>\n",
       "      <td>RİZESPOR</td>\n",
       "      <td>3</td>\n",
       "      <td>1</td>\n",
       "      <td>1</td>\n",
       "      <td>7</td>\n",
       "      <td>15</td>\n",
       "      <td>1.4</td>\n",
       "      <td>1.4</td>\n",
       "    </tr>\n",
       "    <tr>\n",
       "      <th>260</th>\n",
       "      <td>305</td>\n",
       "      <td>34</td>\n",
       "      <td>KASIMPAŞA</td>\n",
       "      <td>BAŞAKŞEHİR</td>\n",
       "      <td>3</td>\n",
       "      <td>2</td>\n",
       "      <td>1</td>\n",
       "      <td>10</td>\n",
       "      <td>1</td>\n",
       "      <td>1.6</td>\n",
       "      <td>2.0</td>\n",
       "    </tr>\n",
       "  </tbody>\n",
       "</table>\n",
       "<p>261 rows × 11 columns</p>\n",
       "</div>"
      ],
      "text/plain": [
       "     index  week         home         away  goal1  goal2  result  home_rank  \\\n",
       "0       45     6   BAŞAKŞEHİR     RİZESPOR      5      0       1         12   \n",
       "1       46     6  DENİZLİSPOR    KASIMPAŞA      0      1       2          5   \n",
       "2       47     6   ALANYASPOR    SİVASSPOR      1      1       0          1   \n",
       "3       48     6  GALATASARAY   FENERBAHÇE      0      0       0          7   \n",
       "4       49     6    KONYASPOR  KAYSERİSPOR      2      1       1         10   \n",
       "..     ...   ...          ...          ...    ...    ...     ...        ...   \n",
       "256    301    34    KONYASPOR   ALANYASPOR      2      3       2         13   \n",
       "257    302    34  KAYSERİSPOR  TRABZONSPOR      1      2       2         17   \n",
       "258    303    34  MALATYASPOR    GAZİANTEP      0      1       2         16   \n",
       "259    304    34   FENERBAHÇE     RİZESPOR      3      1       1          7   \n",
       "260    305    34    KASIMPAŞA   BAŞAKŞEHİR      3      2       1         10   \n",
       "\n",
       "     away_rank  home_form  away_form  \n",
       "0            6        1.0        1.6  \n",
       "1           16        1.6        0.8  \n",
       "2            4        2.6        1.6  \n",
       "3            2        1.6        2.0  \n",
       "4           17        1.2        0.6  \n",
       "..         ...        ...        ...  \n",
       "256          6        1.8        2.0  \n",
       "257          2        1.4        1.0  \n",
       "258          9        0.8        1.8  \n",
       "259         15        1.4        1.4  \n",
       "260          1        1.6        2.0  \n",
       "\n",
       "[261 rows x 11 columns]"
      ]
     },
     "execution_count": 10,
     "metadata": {},
     "output_type": "execute_result"
    }
   ],
   "source": [
    "df5 = pd.read_csv(\"super_league_2019-2020.csv\")\n",
    "df5.drop(\"Unnamed: 0\", axis=1, inplace=True)\n",
    "df5"
   ]
  },
  {
   "cell_type": "code",
   "execution_count": 11,
   "metadata": {},
   "outputs": [],
   "source": [
    "df1[\"season\"] = \"2020-2021\"\n",
    "df2[\"season\"] = \"2016-2017\"\n",
    "df3[\"season\"] = \"2017-2018\"\n",
    "df4[\"season\"] = \"2018-2019\"\n",
    "df5[\"season\"] = \"2019-2020\""
   ]
  },
  {
   "cell_type": "code",
   "execution_count": 12,
   "metadata": {},
   "outputs": [
    {
     "data": {
      "text/html": [
       "<div>\n",
       "<style scoped>\n",
       "    .dataframe tbody tr th:only-of-type {\n",
       "        vertical-align: middle;\n",
       "    }\n",
       "\n",
       "    .dataframe tbody tr th {\n",
       "        vertical-align: top;\n",
       "    }\n",
       "\n",
       "    .dataframe thead th {\n",
       "        text-align: right;\n",
       "    }\n",
       "</style>\n",
       "<table border=\"1\" class=\"dataframe\">\n",
       "  <thead>\n",
       "    <tr style=\"text-align: right;\">\n",
       "      <th></th>\n",
       "      <th>index</th>\n",
       "      <th>week</th>\n",
       "      <th>home</th>\n",
       "      <th>away</th>\n",
       "      <th>goal1</th>\n",
       "      <th>goal2</th>\n",
       "      <th>result</th>\n",
       "      <th>home_rank</th>\n",
       "      <th>away_rank</th>\n",
       "      <th>home_form</th>\n",
       "      <th>away_form</th>\n",
       "      <th>season</th>\n",
       "    </tr>\n",
       "  </thead>\n",
       "  <tbody>\n",
       "    <tr>\n",
       "      <th>0</th>\n",
       "      <td>45</td>\n",
       "      <td>6</td>\n",
       "      <td>AKHİSAR</td>\n",
       "      <td>GENÇLERBİRLİĞİ</td>\n",
       "      <td>0</td>\n",
       "      <td>0</td>\n",
       "      <td>0</td>\n",
       "      <td>14</td>\n",
       "      <td>5</td>\n",
       "      <td>0.8</td>\n",
       "      <td>1.8</td>\n",
       "      <td>2016-2017</td>\n",
       "    </tr>\n",
       "    <tr>\n",
       "      <th>1</th>\n",
       "      <td>46</td>\n",
       "      <td>6</td>\n",
       "      <td>KASIMPAŞA</td>\n",
       "      <td>KAYSERİSPOR</td>\n",
       "      <td>3</td>\n",
       "      <td>1</td>\n",
       "      <td>1</td>\n",
       "      <td>18</td>\n",
       "      <td>13</td>\n",
       "      <td>0.2</td>\n",
       "      <td>1.0</td>\n",
       "      <td>2016-2017</td>\n",
       "    </tr>\n",
       "    <tr>\n",
       "      <th>2</th>\n",
       "      <td>47</td>\n",
       "      <td>6</td>\n",
       "      <td>KARABÜKSPOR</td>\n",
       "      <td>TRABZONSPOR</td>\n",
       "      <td>4</td>\n",
       "      <td>0</td>\n",
       "      <td>1</td>\n",
       "      <td>10</td>\n",
       "      <td>11</td>\n",
       "      <td>1.2</td>\n",
       "      <td>1.2</td>\n",
       "      <td>2016-2017</td>\n",
       "    </tr>\n",
       "    <tr>\n",
       "      <th>3</th>\n",
       "      <td>48</td>\n",
       "      <td>6</td>\n",
       "      <td>GAZİANTEPSPOR</td>\n",
       "      <td>BURSASPOR</td>\n",
       "      <td>3</td>\n",
       "      <td>2</td>\n",
       "      <td>1</td>\n",
       "      <td>15</td>\n",
       "      <td>2</td>\n",
       "      <td>0.8</td>\n",
       "      <td>2.4</td>\n",
       "      <td>2016-2017</td>\n",
       "    </tr>\n",
       "    <tr>\n",
       "      <th>4</th>\n",
       "      <td>49</td>\n",
       "      <td>6</td>\n",
       "      <td>RİZESPOR</td>\n",
       "      <td>BEŞİKTAŞ</td>\n",
       "      <td>0</td>\n",
       "      <td>1</td>\n",
       "      <td>2</td>\n",
       "      <td>16</td>\n",
       "      <td>3</td>\n",
       "      <td>0.8</td>\n",
       "      <td>2.2</td>\n",
       "      <td>2016-2017</td>\n",
       "    </tr>\n",
       "  </tbody>\n",
       "</table>\n",
       "</div>"
      ],
      "text/plain": [
       "   index  week           home            away  goal1  goal2  result  \\\n",
       "0     45     6        AKHİSAR  GENÇLERBİRLİĞİ      0      0       0   \n",
       "1     46     6      KASIMPAŞA     KAYSERİSPOR      3      1       1   \n",
       "2     47     6    KARABÜKSPOR     TRABZONSPOR      4      0       1   \n",
       "3     48     6  GAZİANTEPSPOR       BURSASPOR      3      2       1   \n",
       "4     49     6       RİZESPOR        BEŞİKTAŞ      0      1       2   \n",
       "\n",
       "   home_rank  away_rank  home_form  away_form     season  \n",
       "0         14          5        0.8        1.8  2016-2017  \n",
       "1         18         13        0.2        1.0  2016-2017  \n",
       "2         10         11        1.2        1.2  2016-2017  \n",
       "3         15          2        0.8        2.4  2016-2017  \n",
       "4         16          3        0.8        2.2  2016-2017  "
      ]
     },
     "execution_count": 12,
     "metadata": {},
     "output_type": "execute_result"
    }
   ],
   "source": [
    "df2.head()"
   ]
  },
  {
   "cell_type": "code",
   "execution_count": 13,
   "metadata": {},
   "outputs": [
    {
     "data": {
      "text/html": [
       "<div>\n",
       "<style scoped>\n",
       "    .dataframe tbody tr th:only-of-type {\n",
       "        vertical-align: middle;\n",
       "    }\n",
       "\n",
       "    .dataframe tbody tr th {\n",
       "        vertical-align: top;\n",
       "    }\n",
       "\n",
       "    .dataframe thead th {\n",
       "        text-align: right;\n",
       "    }\n",
       "</style>\n",
       "<table border=\"1\" class=\"dataframe\">\n",
       "  <thead>\n",
       "    <tr style=\"text-align: right;\">\n",
       "      <th></th>\n",
       "      <th>index</th>\n",
       "      <th>week</th>\n",
       "      <th>home</th>\n",
       "      <th>away</th>\n",
       "      <th>goal1</th>\n",
       "      <th>goal2</th>\n",
       "      <th>result</th>\n",
       "      <th>home_form</th>\n",
       "      <th>away_form</th>\n",
       "      <th>home_rank</th>\n",
       "      <th>away_rank</th>\n",
       "      <th>season</th>\n",
       "    </tr>\n",
       "  </thead>\n",
       "  <tbody>\n",
       "    <tr>\n",
       "      <th>0</th>\n",
       "      <td>0</td>\n",
       "      <td>6</td>\n",
       "      <td>KASIMPAŞA</td>\n",
       "      <td>GÖZTEPE</td>\n",
       "      <td>0</td>\n",
       "      <td>0</td>\n",
       "      <td>0</td>\n",
       "      <td>1.40</td>\n",
       "      <td>1.2</td>\n",
       "      <td>8</td>\n",
       "      <td>10</td>\n",
       "      <td>2020-2021</td>\n",
       "    </tr>\n",
       "    <tr>\n",
       "      <th>1</th>\n",
       "      <td>1</td>\n",
       "      <td>6</td>\n",
       "      <td>GAZİANTEP</td>\n",
       "      <td>KONYASPOR</td>\n",
       "      <td>1</td>\n",
       "      <td>0</td>\n",
       "      <td>1</td>\n",
       "      <td>0.80</td>\n",
       "      <td>1.5</td>\n",
       "      <td>17</td>\n",
       "      <td>11</td>\n",
       "      <td>2020-2021</td>\n",
       "    </tr>\n",
       "    <tr>\n",
       "      <th>2</th>\n",
       "      <td>2</td>\n",
       "      <td>6</td>\n",
       "      <td>ERZURUMSPOR</td>\n",
       "      <td>GALATASARAY</td>\n",
       "      <td>1</td>\n",
       "      <td>2</td>\n",
       "      <td>2</td>\n",
       "      <td>1.40</td>\n",
       "      <td>1.4</td>\n",
       "      <td>9</td>\n",
       "      <td>6</td>\n",
       "      <td>2020-2021</td>\n",
       "    </tr>\n",
       "    <tr>\n",
       "      <th>3</th>\n",
       "      <td>3</td>\n",
       "      <td>6</td>\n",
       "      <td>BAŞAKŞEHİR</td>\n",
       "      <td>ANTALYASPOR</td>\n",
       "      <td>5</td>\n",
       "      <td>1</td>\n",
       "      <td>1</td>\n",
       "      <td>0.80</td>\n",
       "      <td>1.6</td>\n",
       "      <td>20</td>\n",
       "      <td>5</td>\n",
       "      <td>2020-2021</td>\n",
       "    </tr>\n",
       "    <tr>\n",
       "      <th>4</th>\n",
       "      <td>4</td>\n",
       "      <td>6</td>\n",
       "      <td>MALATYASPOR</td>\n",
       "      <td>GENÇLERBİRLİĞİ</td>\n",
       "      <td>2</td>\n",
       "      <td>1</td>\n",
       "      <td>1</td>\n",
       "      <td>1.00</td>\n",
       "      <td>1.0</td>\n",
       "      <td>15</td>\n",
       "      <td>19</td>\n",
       "      <td>2020-2021</td>\n",
       "    </tr>\n",
       "    <tr>\n",
       "      <th>...</th>\n",
       "      <td>...</td>\n",
       "      <td>...</td>\n",
       "      <td>...</td>\n",
       "      <td>...</td>\n",
       "      <td>...</td>\n",
       "      <td>...</td>\n",
       "      <td>...</td>\n",
       "      <td>...</td>\n",
       "      <td>...</td>\n",
       "      <td>...</td>\n",
       "      <td>...</td>\n",
       "      <td>...</td>\n",
       "    </tr>\n",
       "    <tr>\n",
       "      <th>365</th>\n",
       "      <td>365</td>\n",
       "      <td>42</td>\n",
       "      <td>ANTALYASPOR</td>\n",
       "      <td>KONYASPOR</td>\n",
       "      <td>0</td>\n",
       "      <td>0</td>\n",
       "      <td>0</td>\n",
       "      <td>0.25</td>\n",
       "      <td>1.6</td>\n",
       "      <td>16</td>\n",
       "      <td>11</td>\n",
       "      <td>2020-2021</td>\n",
       "    </tr>\n",
       "    <tr>\n",
       "      <th>366</th>\n",
       "      <td>366</td>\n",
       "      <td>42</td>\n",
       "      <td>KAYSERİSPOR</td>\n",
       "      <td>FENERBAHÇE</td>\n",
       "      <td>1</td>\n",
       "      <td>2</td>\n",
       "      <td>2</td>\n",
       "      <td>1.20</td>\n",
       "      <td>2.0</td>\n",
       "      <td>17</td>\n",
       "      <td>3</td>\n",
       "      <td>2020-2021</td>\n",
       "    </tr>\n",
       "    <tr>\n",
       "      <th>367</th>\n",
       "      <td>367</td>\n",
       "      <td>42</td>\n",
       "      <td>GALATASARAY</td>\n",
       "      <td>MALATYASPOR</td>\n",
       "      <td>3</td>\n",
       "      <td>1</td>\n",
       "      <td>1</td>\n",
       "      <td>3.00</td>\n",
       "      <td>1.6</td>\n",
       "      <td>2</td>\n",
       "      <td>14</td>\n",
       "      <td>2020-2021</td>\n",
       "    </tr>\n",
       "    <tr>\n",
       "      <th>368</th>\n",
       "      <td>368</td>\n",
       "      <td>42</td>\n",
       "      <td>GÖZTEPE</td>\n",
       "      <td>BEŞİKTAŞ</td>\n",
       "      <td>1</td>\n",
       "      <td>2</td>\n",
       "      <td>2</td>\n",
       "      <td>1.00</td>\n",
       "      <td>1.8</td>\n",
       "      <td>10</td>\n",
       "      <td>1</td>\n",
       "      <td>2020-2021</td>\n",
       "    </tr>\n",
       "    <tr>\n",
       "      <th>369</th>\n",
       "      <td>369</td>\n",
       "      <td>42</td>\n",
       "      <td>TRABZONSPOR</td>\n",
       "      <td>GENÇLERBİRLİĞİ</td>\n",
       "      <td>2</td>\n",
       "      <td>1</td>\n",
       "      <td>1</td>\n",
       "      <td>2.00</td>\n",
       "      <td>1.2</td>\n",
       "      <td>4</td>\n",
       "      <td>20</td>\n",
       "      <td>2020-2021</td>\n",
       "    </tr>\n",
       "  </tbody>\n",
       "</table>\n",
       "<p>370 rows × 12 columns</p>\n",
       "</div>"
      ],
      "text/plain": [
       "     index  week         home            away  goal1  goal2  result  \\\n",
       "0        0     6    KASIMPAŞA         GÖZTEPE      0      0       0   \n",
       "1        1     6    GAZİANTEP       KONYASPOR      1      0       1   \n",
       "2        2     6  ERZURUMSPOR     GALATASARAY      1      2       2   \n",
       "3        3     6   BAŞAKŞEHİR     ANTALYASPOR      5      1       1   \n",
       "4        4     6  MALATYASPOR  GENÇLERBİRLİĞİ      2      1       1   \n",
       "..     ...   ...          ...             ...    ...    ...     ...   \n",
       "365    365    42  ANTALYASPOR       KONYASPOR      0      0       0   \n",
       "366    366    42  KAYSERİSPOR      FENERBAHÇE      1      2       2   \n",
       "367    367    42  GALATASARAY     MALATYASPOR      3      1       1   \n",
       "368    368    42      GÖZTEPE        BEŞİKTAŞ      1      2       2   \n",
       "369    369    42  TRABZONSPOR  GENÇLERBİRLİĞİ      2      1       1   \n",
       "\n",
       "     home_form  away_form  home_rank  away_rank     season  \n",
       "0         1.40        1.2          8         10  2020-2021  \n",
       "1         0.80        1.5         17         11  2020-2021  \n",
       "2         1.40        1.4          9          6  2020-2021  \n",
       "3         0.80        1.6         20          5  2020-2021  \n",
       "4         1.00        1.0         15         19  2020-2021  \n",
       "..         ...        ...        ...        ...        ...  \n",
       "365       0.25        1.6         16         11  2020-2021  \n",
       "366       1.20        2.0         17          3  2020-2021  \n",
       "367       3.00        1.6          2         14  2020-2021  \n",
       "368       1.00        1.8         10          1  2020-2021  \n",
       "369       2.00        1.2          4         20  2020-2021  \n",
       "\n",
       "[370 rows x 12 columns]"
      ]
     },
     "execution_count": 13,
     "metadata": {},
     "output_type": "execute_result"
    }
   ],
   "source": [
    "df1"
   ]
  },
  {
   "cell_type": "code",
   "execution_count": 14,
   "metadata": {},
   "outputs": [
    {
     "data": {
      "text/html": [
       "<div>\n",
       "<style scoped>\n",
       "    .dataframe tbody tr th:only-of-type {\n",
       "        vertical-align: middle;\n",
       "    }\n",
       "\n",
       "    .dataframe tbody tr th {\n",
       "        vertical-align: top;\n",
       "    }\n",
       "\n",
       "    .dataframe thead th {\n",
       "        text-align: right;\n",
       "    }\n",
       "</style>\n",
       "<table border=\"1\" class=\"dataframe\">\n",
       "  <thead>\n",
       "    <tr style=\"text-align: right;\">\n",
       "      <th></th>\n",
       "      <th>index</th>\n",
       "      <th>week</th>\n",
       "      <th>home</th>\n",
       "      <th>away</th>\n",
       "      <th>goal1</th>\n",
       "      <th>goal2</th>\n",
       "      <th>result</th>\n",
       "      <th>home_rank</th>\n",
       "      <th>away_rank</th>\n",
       "      <th>home_form</th>\n",
       "      <th>away_form</th>\n",
       "      <th>season</th>\n",
       "    </tr>\n",
       "  </thead>\n",
       "  <tbody>\n",
       "    <tr>\n",
       "      <th>0</th>\n",
       "      <td>45</td>\n",
       "      <td>6</td>\n",
       "      <td>AKHİSAR</td>\n",
       "      <td>GENÇLERBİRLİĞİ</td>\n",
       "      <td>0</td>\n",
       "      <td>0</td>\n",
       "      <td>0</td>\n",
       "      <td>14</td>\n",
       "      <td>5</td>\n",
       "      <td>0.80</td>\n",
       "      <td>1.8</td>\n",
       "      <td>2016-2017</td>\n",
       "    </tr>\n",
       "    <tr>\n",
       "      <th>1</th>\n",
       "      <td>46</td>\n",
       "      <td>6</td>\n",
       "      <td>KASIMPAŞA</td>\n",
       "      <td>KAYSERİSPOR</td>\n",
       "      <td>3</td>\n",
       "      <td>1</td>\n",
       "      <td>1</td>\n",
       "      <td>18</td>\n",
       "      <td>13</td>\n",
       "      <td>0.20</td>\n",
       "      <td>1.0</td>\n",
       "      <td>2016-2017</td>\n",
       "    </tr>\n",
       "    <tr>\n",
       "      <th>2</th>\n",
       "      <td>47</td>\n",
       "      <td>6</td>\n",
       "      <td>KARABÜKSPOR</td>\n",
       "      <td>TRABZONSPOR</td>\n",
       "      <td>4</td>\n",
       "      <td>0</td>\n",
       "      <td>1</td>\n",
       "      <td>10</td>\n",
       "      <td>11</td>\n",
       "      <td>1.20</td>\n",
       "      <td>1.2</td>\n",
       "      <td>2016-2017</td>\n",
       "    </tr>\n",
       "    <tr>\n",
       "      <th>3</th>\n",
       "      <td>48</td>\n",
       "      <td>6</td>\n",
       "      <td>GAZİANTEPSPOR</td>\n",
       "      <td>BURSASPOR</td>\n",
       "      <td>3</td>\n",
       "      <td>2</td>\n",
       "      <td>1</td>\n",
       "      <td>15</td>\n",
       "      <td>2</td>\n",
       "      <td>0.80</td>\n",
       "      <td>2.4</td>\n",
       "      <td>2016-2017</td>\n",
       "    </tr>\n",
       "    <tr>\n",
       "      <th>4</th>\n",
       "      <td>49</td>\n",
       "      <td>6</td>\n",
       "      <td>RİZESPOR</td>\n",
       "      <td>BEŞİKTAŞ</td>\n",
       "      <td>0</td>\n",
       "      <td>1</td>\n",
       "      <td>2</td>\n",
       "      <td>16</td>\n",
       "      <td>3</td>\n",
       "      <td>0.80</td>\n",
       "      <td>2.2</td>\n",
       "      <td>2016-2017</td>\n",
       "    </tr>\n",
       "    <tr>\n",
       "      <th>...</th>\n",
       "      <td>...</td>\n",
       "      <td>...</td>\n",
       "      <td>...</td>\n",
       "      <td>...</td>\n",
       "      <td>...</td>\n",
       "      <td>...</td>\n",
       "      <td>...</td>\n",
       "      <td>...</td>\n",
       "      <td>...</td>\n",
       "      <td>...</td>\n",
       "      <td>...</td>\n",
       "      <td>...</td>\n",
       "    </tr>\n",
       "    <tr>\n",
       "      <th>365</th>\n",
       "      <td>365</td>\n",
       "      <td>42</td>\n",
       "      <td>ANTALYASPOR</td>\n",
       "      <td>KONYASPOR</td>\n",
       "      <td>0</td>\n",
       "      <td>0</td>\n",
       "      <td>0</td>\n",
       "      <td>16</td>\n",
       "      <td>11</td>\n",
       "      <td>0.25</td>\n",
       "      <td>1.6</td>\n",
       "      <td>2020-2021</td>\n",
       "    </tr>\n",
       "    <tr>\n",
       "      <th>366</th>\n",
       "      <td>366</td>\n",
       "      <td>42</td>\n",
       "      <td>KAYSERİSPOR</td>\n",
       "      <td>FENERBAHÇE</td>\n",
       "      <td>1</td>\n",
       "      <td>2</td>\n",
       "      <td>2</td>\n",
       "      <td>17</td>\n",
       "      <td>3</td>\n",
       "      <td>1.20</td>\n",
       "      <td>2.0</td>\n",
       "      <td>2020-2021</td>\n",
       "    </tr>\n",
       "    <tr>\n",
       "      <th>367</th>\n",
       "      <td>367</td>\n",
       "      <td>42</td>\n",
       "      <td>GALATASARAY</td>\n",
       "      <td>MALATYASPOR</td>\n",
       "      <td>3</td>\n",
       "      <td>1</td>\n",
       "      <td>1</td>\n",
       "      <td>2</td>\n",
       "      <td>14</td>\n",
       "      <td>3.00</td>\n",
       "      <td>1.6</td>\n",
       "      <td>2020-2021</td>\n",
       "    </tr>\n",
       "    <tr>\n",
       "      <th>368</th>\n",
       "      <td>368</td>\n",
       "      <td>42</td>\n",
       "      <td>GÖZTEPE</td>\n",
       "      <td>BEŞİKTAŞ</td>\n",
       "      <td>1</td>\n",
       "      <td>2</td>\n",
       "      <td>2</td>\n",
       "      <td>10</td>\n",
       "      <td>1</td>\n",
       "      <td>1.00</td>\n",
       "      <td>1.8</td>\n",
       "      <td>2020-2021</td>\n",
       "    </tr>\n",
       "    <tr>\n",
       "      <th>369</th>\n",
       "      <td>369</td>\n",
       "      <td>42</td>\n",
       "      <td>TRABZONSPOR</td>\n",
       "      <td>GENÇLERBİRLİĞİ</td>\n",
       "      <td>2</td>\n",
       "      <td>1</td>\n",
       "      <td>1</td>\n",
       "      <td>4</td>\n",
       "      <td>20</td>\n",
       "      <td>2.00</td>\n",
       "      <td>1.2</td>\n",
       "      <td>2020-2021</td>\n",
       "    </tr>\n",
       "  </tbody>\n",
       "</table>\n",
       "<p>1414 rows × 12 columns</p>\n",
       "</div>"
      ],
      "text/plain": [
       "     index  week           home            away  goal1  goal2  result  \\\n",
       "0       45     6        AKHİSAR  GENÇLERBİRLİĞİ      0      0       0   \n",
       "1       46     6      KASIMPAŞA     KAYSERİSPOR      3      1       1   \n",
       "2       47     6    KARABÜKSPOR     TRABZONSPOR      4      0       1   \n",
       "3       48     6  GAZİANTEPSPOR       BURSASPOR      3      2       1   \n",
       "4       49     6       RİZESPOR        BEŞİKTAŞ      0      1       2   \n",
       "..     ...   ...            ...             ...    ...    ...     ...   \n",
       "365    365    42    ANTALYASPOR       KONYASPOR      0      0       0   \n",
       "366    366    42    KAYSERİSPOR      FENERBAHÇE      1      2       2   \n",
       "367    367    42    GALATASARAY     MALATYASPOR      3      1       1   \n",
       "368    368    42        GÖZTEPE        BEŞİKTAŞ      1      2       2   \n",
       "369    369    42    TRABZONSPOR  GENÇLERBİRLİĞİ      2      1       1   \n",
       "\n",
       "     home_rank  away_rank  home_form  away_form     season  \n",
       "0           14          5       0.80        1.8  2016-2017  \n",
       "1           18         13       0.20        1.0  2016-2017  \n",
       "2           10         11       1.20        1.2  2016-2017  \n",
       "3           15          2       0.80        2.4  2016-2017  \n",
       "4           16          3       0.80        2.2  2016-2017  \n",
       "..         ...        ...        ...        ...        ...  \n",
       "365         16         11       0.25        1.6  2020-2021  \n",
       "366         17          3       1.20        2.0  2020-2021  \n",
       "367          2         14       3.00        1.6  2020-2021  \n",
       "368         10          1       1.00        1.8  2020-2021  \n",
       "369          4         20       2.00        1.2  2020-2021  \n",
       "\n",
       "[1414 rows x 12 columns]"
      ]
     },
     "execution_count": 14,
     "metadata": {},
     "output_type": "execute_result"
    }
   ],
   "source": [
    "frames = [df2,df3,df4,df5,df1]\n",
    "df = pd.concat(frames)\n",
    "df"
   ]
  },
  {
   "cell_type": "code",
   "execution_count": 15,
   "metadata": {},
   "outputs": [
    {
     "data": {
      "text/html": [
       "<div>\n",
       "<style scoped>\n",
       "    .dataframe tbody tr th:only-of-type {\n",
       "        vertical-align: middle;\n",
       "    }\n",
       "\n",
       "    .dataframe tbody tr th {\n",
       "        vertical-align: top;\n",
       "    }\n",
       "\n",
       "    .dataframe thead th {\n",
       "        text-align: right;\n",
       "    }\n",
       "</style>\n",
       "<table border=\"1\" class=\"dataframe\">\n",
       "  <thead>\n",
       "    <tr style=\"text-align: right;\">\n",
       "      <th></th>\n",
       "      <th>week</th>\n",
       "      <th>home</th>\n",
       "      <th>away</th>\n",
       "      <th>result</th>\n",
       "      <th>home_rank</th>\n",
       "      <th>away_rank</th>\n",
       "      <th>home_form</th>\n",
       "      <th>away_form</th>\n",
       "      <th>season</th>\n",
       "    </tr>\n",
       "  </thead>\n",
       "  <tbody>\n",
       "    <tr>\n",
       "      <th>0</th>\n",
       "      <td>6</td>\n",
       "      <td>AKHİSAR</td>\n",
       "      <td>GENÇLERBİRLİĞİ</td>\n",
       "      <td>0</td>\n",
       "      <td>14</td>\n",
       "      <td>5</td>\n",
       "      <td>0.80</td>\n",
       "      <td>1.8</td>\n",
       "      <td>2016-2017</td>\n",
       "    </tr>\n",
       "    <tr>\n",
       "      <th>1</th>\n",
       "      <td>6</td>\n",
       "      <td>KASIMPAŞA</td>\n",
       "      <td>KAYSERİSPOR</td>\n",
       "      <td>1</td>\n",
       "      <td>18</td>\n",
       "      <td>13</td>\n",
       "      <td>0.20</td>\n",
       "      <td>1.0</td>\n",
       "      <td>2016-2017</td>\n",
       "    </tr>\n",
       "    <tr>\n",
       "      <th>2</th>\n",
       "      <td>6</td>\n",
       "      <td>KARABÜKSPOR</td>\n",
       "      <td>TRABZONSPOR</td>\n",
       "      <td>1</td>\n",
       "      <td>10</td>\n",
       "      <td>11</td>\n",
       "      <td>1.20</td>\n",
       "      <td>1.2</td>\n",
       "      <td>2016-2017</td>\n",
       "    </tr>\n",
       "    <tr>\n",
       "      <th>3</th>\n",
       "      <td>6</td>\n",
       "      <td>GAZİANTEPSPOR</td>\n",
       "      <td>BURSASPOR</td>\n",
       "      <td>1</td>\n",
       "      <td>15</td>\n",
       "      <td>2</td>\n",
       "      <td>0.80</td>\n",
       "      <td>2.4</td>\n",
       "      <td>2016-2017</td>\n",
       "    </tr>\n",
       "    <tr>\n",
       "      <th>4</th>\n",
       "      <td>6</td>\n",
       "      <td>RİZESPOR</td>\n",
       "      <td>BEŞİKTAŞ</td>\n",
       "      <td>2</td>\n",
       "      <td>16</td>\n",
       "      <td>3</td>\n",
       "      <td>0.80</td>\n",
       "      <td>2.2</td>\n",
       "      <td>2016-2017</td>\n",
       "    </tr>\n",
       "    <tr>\n",
       "      <th>...</th>\n",
       "      <td>...</td>\n",
       "      <td>...</td>\n",
       "      <td>...</td>\n",
       "      <td>...</td>\n",
       "      <td>...</td>\n",
       "      <td>...</td>\n",
       "      <td>...</td>\n",
       "      <td>...</td>\n",
       "      <td>...</td>\n",
       "    </tr>\n",
       "    <tr>\n",
       "      <th>365</th>\n",
       "      <td>42</td>\n",
       "      <td>ANTALYASPOR</td>\n",
       "      <td>KONYASPOR</td>\n",
       "      <td>0</td>\n",
       "      <td>16</td>\n",
       "      <td>11</td>\n",
       "      <td>0.25</td>\n",
       "      <td>1.6</td>\n",
       "      <td>2020-2021</td>\n",
       "    </tr>\n",
       "    <tr>\n",
       "      <th>366</th>\n",
       "      <td>42</td>\n",
       "      <td>KAYSERİSPOR</td>\n",
       "      <td>FENERBAHÇE</td>\n",
       "      <td>2</td>\n",
       "      <td>17</td>\n",
       "      <td>3</td>\n",
       "      <td>1.20</td>\n",
       "      <td>2.0</td>\n",
       "      <td>2020-2021</td>\n",
       "    </tr>\n",
       "    <tr>\n",
       "      <th>367</th>\n",
       "      <td>42</td>\n",
       "      <td>GALATASARAY</td>\n",
       "      <td>MALATYASPOR</td>\n",
       "      <td>1</td>\n",
       "      <td>2</td>\n",
       "      <td>14</td>\n",
       "      <td>3.00</td>\n",
       "      <td>1.6</td>\n",
       "      <td>2020-2021</td>\n",
       "    </tr>\n",
       "    <tr>\n",
       "      <th>368</th>\n",
       "      <td>42</td>\n",
       "      <td>GÖZTEPE</td>\n",
       "      <td>BEŞİKTAŞ</td>\n",
       "      <td>2</td>\n",
       "      <td>10</td>\n",
       "      <td>1</td>\n",
       "      <td>1.00</td>\n",
       "      <td>1.8</td>\n",
       "      <td>2020-2021</td>\n",
       "    </tr>\n",
       "    <tr>\n",
       "      <th>369</th>\n",
       "      <td>42</td>\n",
       "      <td>TRABZONSPOR</td>\n",
       "      <td>GENÇLERBİRLİĞİ</td>\n",
       "      <td>1</td>\n",
       "      <td>4</td>\n",
       "      <td>20</td>\n",
       "      <td>2.00</td>\n",
       "      <td>1.2</td>\n",
       "      <td>2020-2021</td>\n",
       "    </tr>\n",
       "  </tbody>\n",
       "</table>\n",
       "<p>1414 rows × 9 columns</p>\n",
       "</div>"
      ],
      "text/plain": [
       "     week           home            away  result  home_rank  away_rank  \\\n",
       "0       6        AKHİSAR  GENÇLERBİRLİĞİ       0         14          5   \n",
       "1       6      KASIMPAŞA     KAYSERİSPOR       1         18         13   \n",
       "2       6    KARABÜKSPOR     TRABZONSPOR       1         10         11   \n",
       "3       6  GAZİANTEPSPOR       BURSASPOR       1         15          2   \n",
       "4       6       RİZESPOR        BEŞİKTAŞ       2         16          3   \n",
       "..    ...            ...             ...     ...        ...        ...   \n",
       "365    42    ANTALYASPOR       KONYASPOR       0         16         11   \n",
       "366    42    KAYSERİSPOR      FENERBAHÇE       2         17          3   \n",
       "367    42    GALATASARAY     MALATYASPOR       1          2         14   \n",
       "368    42        GÖZTEPE        BEŞİKTAŞ       2         10          1   \n",
       "369    42    TRABZONSPOR  GENÇLERBİRLİĞİ       1          4         20   \n",
       "\n",
       "     home_form  away_form     season  \n",
       "0         0.80        1.8  2016-2017  \n",
       "1         0.20        1.0  2016-2017  \n",
       "2         1.20        1.2  2016-2017  \n",
       "3         0.80        2.4  2016-2017  \n",
       "4         0.80        2.2  2016-2017  \n",
       "..         ...        ...        ...  \n",
       "365       0.25        1.6  2020-2021  \n",
       "366       1.20        2.0  2020-2021  \n",
       "367       3.00        1.6  2020-2021  \n",
       "368       1.00        1.8  2020-2021  \n",
       "369       2.00        1.2  2020-2021  \n",
       "\n",
       "[1414 rows x 9 columns]"
      ]
     },
     "execution_count": 15,
     "metadata": {},
     "output_type": "execute_result"
    }
   ],
   "source": [
    "df.drop([\"goal1\", \"goal2\", \"index\"], axis=1, inplace=True)\n",
    "df"
   ]
  },
  {
   "cell_type": "code",
   "execution_count": 16,
   "metadata": {},
   "outputs": [
    {
     "data": {
      "text/html": [
       "<div>\n",
       "<style scoped>\n",
       "    .dataframe tbody tr th:only-of-type {\n",
       "        vertical-align: middle;\n",
       "    }\n",
       "\n",
       "    .dataframe tbody tr th {\n",
       "        vertical-align: top;\n",
       "    }\n",
       "\n",
       "    .dataframe thead th {\n",
       "        text-align: right;\n",
       "    }\n",
       "</style>\n",
       "<table border=\"1\" class=\"dataframe\">\n",
       "  <thead>\n",
       "    <tr style=\"text-align: right;\">\n",
       "      <th></th>\n",
       "      <th>week</th>\n",
       "      <th>home</th>\n",
       "      <th>away</th>\n",
       "      <th>result</th>\n",
       "      <th>home_rank</th>\n",
       "      <th>away_rank</th>\n",
       "      <th>home_form</th>\n",
       "      <th>away_form</th>\n",
       "      <th>season</th>\n",
       "    </tr>\n",
       "  </thead>\n",
       "  <tbody>\n",
       "    <tr>\n",
       "      <th>17</th>\n",
       "      <td>7</td>\n",
       "      <td>HATAYSPOR</td>\n",
       "      <td>SİVASSPOR</td>\n",
       "      <td>0</td>\n",
       "      <td>4</td>\n",
       "      <td>14</td>\n",
       "      <td>1.40</td>\n",
       "      <td>1.75</td>\n",
       "      <td>2020-2021</td>\n",
       "    </tr>\n",
       "    <tr>\n",
       "      <th>34</th>\n",
       "      <td>9</td>\n",
       "      <td>HATAYSPOR</td>\n",
       "      <td>RİZESPOR</td>\n",
       "      <td>0</td>\n",
       "      <td>4</td>\n",
       "      <td>9</td>\n",
       "      <td>1.40</td>\n",
       "      <td>2.50</td>\n",
       "      <td>2020-2021</td>\n",
       "    </tr>\n",
       "    <tr>\n",
       "      <th>61</th>\n",
       "      <td>12</td>\n",
       "      <td>HATAYSPOR</td>\n",
       "      <td>KARAGÜMRÜK</td>\n",
       "      <td>1</td>\n",
       "      <td>11</td>\n",
       "      <td>6</td>\n",
       "      <td>1.25</td>\n",
       "      <td>1.80</td>\n",
       "      <td>2020-2021</td>\n",
       "    </tr>\n",
       "    <tr>\n",
       "      <th>80</th>\n",
       "      <td>14</td>\n",
       "      <td>HATAYSPOR</td>\n",
       "      <td>TRABZONSPOR</td>\n",
       "      <td>2</td>\n",
       "      <td>6</td>\n",
       "      <td>11</td>\n",
       "      <td>1.75</td>\n",
       "      <td>2.20</td>\n",
       "      <td>2020-2021</td>\n",
       "    </tr>\n",
       "    <tr>\n",
       "      <th>104</th>\n",
       "      <td>16</td>\n",
       "      <td>HATAYSPOR</td>\n",
       "      <td>KONYASPOR</td>\n",
       "      <td>1</td>\n",
       "      <td>6</td>\n",
       "      <td>10</td>\n",
       "      <td>1.80</td>\n",
       "      <td>1.40</td>\n",
       "      <td>2020-2021</td>\n",
       "    </tr>\n",
       "    <tr>\n",
       "      <th>127</th>\n",
       "      <td>18</td>\n",
       "      <td>HATAYSPOR</td>\n",
       "      <td>BEŞİKTAŞ</td>\n",
       "      <td>0</td>\n",
       "      <td>6</td>\n",
       "      <td>1</td>\n",
       "      <td>1.80</td>\n",
       "      <td>3.00</td>\n",
       "      <td>2020-2021</td>\n",
       "    </tr>\n",
       "    <tr>\n",
       "      <th>144</th>\n",
       "      <td>20</td>\n",
       "      <td>HATAYSPOR</td>\n",
       "      <td>MALATYASPOR</td>\n",
       "      <td>2</td>\n",
       "      <td>5</td>\n",
       "      <td>10</td>\n",
       "      <td>2.00</td>\n",
       "      <td>0.80</td>\n",
       "      <td>2020-2021</td>\n",
       "    </tr>\n",
       "    <tr>\n",
       "      <th>170</th>\n",
       "      <td>23</td>\n",
       "      <td>HATAYSPOR</td>\n",
       "      <td>FENERBAHÇE</td>\n",
       "      <td>2</td>\n",
       "      <td>7</td>\n",
       "      <td>1</td>\n",
       "      <td>1.60</td>\n",
       "      <td>2.60</td>\n",
       "      <td>2020-2021</td>\n",
       "    </tr>\n",
       "    <tr>\n",
       "      <th>195</th>\n",
       "      <td>25</td>\n",
       "      <td>HATAYSPOR</td>\n",
       "      <td>ALANYASPOR</td>\n",
       "      <td>0</td>\n",
       "      <td>6</td>\n",
       "      <td>5</td>\n",
       "      <td>1.40</td>\n",
       "      <td>2.20</td>\n",
       "      <td>2020-2021</td>\n",
       "    </tr>\n",
       "    <tr>\n",
       "      <th>213</th>\n",
       "      <td>27</td>\n",
       "      <td>HATAYSPOR</td>\n",
       "      <td>ANKARAGÜCÜ</td>\n",
       "      <td>1</td>\n",
       "      <td>6</td>\n",
       "      <td>20</td>\n",
       "      <td>2.00</td>\n",
       "      <td>0.50</td>\n",
       "      <td>2020-2021</td>\n",
       "    </tr>\n",
       "    <tr>\n",
       "      <th>233</th>\n",
       "      <td>29</td>\n",
       "      <td>HATAYSPOR</td>\n",
       "      <td>KAYSERİSPOR</td>\n",
       "      <td>2</td>\n",
       "      <td>5</td>\n",
       "      <td>15</td>\n",
       "      <td>2.20</td>\n",
       "      <td>1.25</td>\n",
       "      <td>2020-2021</td>\n",
       "    </tr>\n",
       "    <tr>\n",
       "      <th>263</th>\n",
       "      <td>32</td>\n",
       "      <td>HATAYSPOR</td>\n",
       "      <td>GALATASARAY</td>\n",
       "      <td>1</td>\n",
       "      <td>7</td>\n",
       "      <td>2</td>\n",
       "      <td>1.00</td>\n",
       "      <td>1.40</td>\n",
       "      <td>2020-2021</td>\n",
       "    </tr>\n",
       "    <tr>\n",
       "      <th>280</th>\n",
       "      <td>34</td>\n",
       "      <td>HATAYSPOR</td>\n",
       "      <td>GÖZTEPE</td>\n",
       "      <td>2</td>\n",
       "      <td>7</td>\n",
       "      <td>10</td>\n",
       "      <td>0.75</td>\n",
       "      <td>1.40</td>\n",
       "      <td>2020-2021</td>\n",
       "    </tr>\n",
       "    <tr>\n",
       "      <th>304</th>\n",
       "      <td>36</td>\n",
       "      <td>HATAYSPOR</td>\n",
       "      <td>ANTALYASPOR</td>\n",
       "      <td>1</td>\n",
       "      <td>7</td>\n",
       "      <td>11</td>\n",
       "      <td>1.00</td>\n",
       "      <td>1.20</td>\n",
       "      <td>2020-2021</td>\n",
       "    </tr>\n",
       "    <tr>\n",
       "      <th>320</th>\n",
       "      <td>38</td>\n",
       "      <td>HATAYSPOR</td>\n",
       "      <td>GENÇLERBİRLİĞİ</td>\n",
       "      <td>1</td>\n",
       "      <td>6</td>\n",
       "      <td>20</td>\n",
       "      <td>1.00</td>\n",
       "      <td>1.00</td>\n",
       "      <td>2020-2021</td>\n",
       "    </tr>\n",
       "    <tr>\n",
       "      <th>345</th>\n",
       "      <td>40</td>\n",
       "      <td>HATAYSPOR</td>\n",
       "      <td>DENİZLİSPOR</td>\n",
       "      <td>1</td>\n",
       "      <td>7</td>\n",
       "      <td>21</td>\n",
       "      <td>1.60</td>\n",
       "      <td>0.40</td>\n",
       "      <td>2020-2021</td>\n",
       "    </tr>\n",
       "    <tr>\n",
       "      <th>363</th>\n",
       "      <td>42</td>\n",
       "      <td>HATAYSPOR</td>\n",
       "      <td>GAZİANTEP</td>\n",
       "      <td>2</td>\n",
       "      <td>6</td>\n",
       "      <td>9</td>\n",
       "      <td>1.60</td>\n",
       "      <td>0.80</td>\n",
       "      <td>2020-2021</td>\n",
       "    </tr>\n",
       "  </tbody>\n",
       "</table>\n",
       "</div>"
      ],
      "text/plain": [
       "     week       home            away  result  home_rank  away_rank  home_form  \\\n",
       "17      7  HATAYSPOR       SİVASSPOR       0          4         14       1.40   \n",
       "34      9  HATAYSPOR        RİZESPOR       0          4          9       1.40   \n",
       "61     12  HATAYSPOR      KARAGÜMRÜK       1         11          6       1.25   \n",
       "80     14  HATAYSPOR     TRABZONSPOR       2          6         11       1.75   \n",
       "104    16  HATAYSPOR       KONYASPOR       1          6         10       1.80   \n",
       "127    18  HATAYSPOR        BEŞİKTAŞ       0          6          1       1.80   \n",
       "144    20  HATAYSPOR     MALATYASPOR       2          5         10       2.00   \n",
       "170    23  HATAYSPOR      FENERBAHÇE       2          7          1       1.60   \n",
       "195    25  HATAYSPOR      ALANYASPOR       0          6          5       1.40   \n",
       "213    27  HATAYSPOR      ANKARAGÜCÜ       1          6         20       2.00   \n",
       "233    29  HATAYSPOR     KAYSERİSPOR       2          5         15       2.20   \n",
       "263    32  HATAYSPOR     GALATASARAY       1          7          2       1.00   \n",
       "280    34  HATAYSPOR         GÖZTEPE       2          7         10       0.75   \n",
       "304    36  HATAYSPOR     ANTALYASPOR       1          7         11       1.00   \n",
       "320    38  HATAYSPOR  GENÇLERBİRLİĞİ       1          6         20       1.00   \n",
       "345    40  HATAYSPOR     DENİZLİSPOR       1          7         21       1.60   \n",
       "363    42  HATAYSPOR       GAZİANTEP       2          6          9       1.60   \n",
       "\n",
       "     away_form     season  \n",
       "17        1.75  2020-2021  \n",
       "34        2.50  2020-2021  \n",
       "61        1.80  2020-2021  \n",
       "80        2.20  2020-2021  \n",
       "104       1.40  2020-2021  \n",
       "127       3.00  2020-2021  \n",
       "144       0.80  2020-2021  \n",
       "170       2.60  2020-2021  \n",
       "195       2.20  2020-2021  \n",
       "213       0.50  2020-2021  \n",
       "233       1.25  2020-2021  \n",
       "263       1.40  2020-2021  \n",
       "280       1.40  2020-2021  \n",
       "304       1.20  2020-2021  \n",
       "320       1.00  2020-2021  \n",
       "345       0.40  2020-2021  \n",
       "363       0.80  2020-2021  "
      ]
     },
     "execution_count": 16,
     "metadata": {},
     "output_type": "execute_result"
    }
   ],
   "source": [
    "df[df[\"home\"] == \"HATAYSPOR\"]"
   ]
  },
  {
   "cell_type": "code",
   "execution_count": 17,
   "metadata": {},
   "outputs": [],
   "source": [
    "#df.drop(\"index\", axis=1, inplace=True)\n",
    "#df"
   ]
  },
  {
   "cell_type": "code",
   "execution_count": 18,
   "metadata": {},
   "outputs": [
    {
     "data": {
      "text/plain": [
       "array(['AKHİSAR', 'KASIMPAŞA', 'KARABÜKSPOR', 'GAZİANTEP', 'RİZESPOR',\n",
       "       'ALANYASPOR', 'GALATASARAY', 'KONYASPOR', 'OSMANLISPOR',\n",
       "       'KAYSERİSPOR', 'ADANASPOR', 'GENÇLERBİRLİĞİ', 'BAŞAKŞEHİR',\n",
       "       'BURSASPOR', 'FENERBAHÇE', 'TRABZONSPOR', 'ANTALYASPOR',\n",
       "       'BEŞİKTAŞ', 'SİVASSPOR', 'MALATYASPOR', 'GÖZTEPE', 'ERZURUMSPOR',\n",
       "       'ANKARAGÜCÜ', 'DENİZLİSPOR', 'KARAGÜMRÜK', 'HATAYSPOR'],\n",
       "      dtype=object)"
      ]
     },
     "execution_count": 18,
     "metadata": {},
     "output_type": "execute_result"
    }
   ],
   "source": [
    "df = df.replace(\"AKHİSARSPOR\", \"AKHİSAR\")\n",
    "df = df.replace(\"GAZİANTEP\", \"GAZİANTEPSPOR\")\n",
    "df = df.replace(\"GAZİANTEPSPOR\", \"GAZİANTEP\")\n",
    "df[\"home\"].unique()"
   ]
  },
  {
   "cell_type": "code",
   "execution_count": 19,
   "metadata": {},
   "outputs": [
    {
     "data": {
      "text/html": [
       "<div>\n",
       "<style scoped>\n",
       "    .dataframe tbody tr th:only-of-type {\n",
       "        vertical-align: middle;\n",
       "    }\n",
       "\n",
       "    .dataframe tbody tr th {\n",
       "        vertical-align: top;\n",
       "    }\n",
       "\n",
       "    .dataframe thead th {\n",
       "        text-align: right;\n",
       "    }\n",
       "</style>\n",
       "<table border=\"1\" class=\"dataframe\">\n",
       "  <thead>\n",
       "    <tr style=\"text-align: right;\">\n",
       "      <th></th>\n",
       "      <th>week</th>\n",
       "      <th>home</th>\n",
       "      <th>away</th>\n",
       "      <th>result</th>\n",
       "      <th>home_rank</th>\n",
       "      <th>away_rank</th>\n",
       "      <th>home_form</th>\n",
       "      <th>away_form</th>\n",
       "      <th>2016-2017</th>\n",
       "      <th>2017-2018</th>\n",
       "      <th>2018-2019</th>\n",
       "      <th>2019-2020</th>\n",
       "      <th>2020-2021</th>\n",
       "    </tr>\n",
       "  </thead>\n",
       "  <tbody>\n",
       "    <tr>\n",
       "      <th>0</th>\n",
       "      <td>6</td>\n",
       "      <td>AKHİSAR</td>\n",
       "      <td>GENÇLERBİRLİĞİ</td>\n",
       "      <td>0</td>\n",
       "      <td>14</td>\n",
       "      <td>5</td>\n",
       "      <td>0.8</td>\n",
       "      <td>1.8</td>\n",
       "      <td>1</td>\n",
       "      <td>0</td>\n",
       "      <td>0</td>\n",
       "      <td>0</td>\n",
       "      <td>0</td>\n",
       "    </tr>\n",
       "    <tr>\n",
       "      <th>1</th>\n",
       "      <td>6</td>\n",
       "      <td>KASIMPAŞA</td>\n",
       "      <td>KAYSERİSPOR</td>\n",
       "      <td>1</td>\n",
       "      <td>18</td>\n",
       "      <td>13</td>\n",
       "      <td>0.2</td>\n",
       "      <td>1.0</td>\n",
       "      <td>1</td>\n",
       "      <td>0</td>\n",
       "      <td>0</td>\n",
       "      <td>0</td>\n",
       "      <td>0</td>\n",
       "    </tr>\n",
       "    <tr>\n",
       "      <th>2</th>\n",
       "      <td>6</td>\n",
       "      <td>KARABÜKSPOR</td>\n",
       "      <td>TRABZONSPOR</td>\n",
       "      <td>1</td>\n",
       "      <td>10</td>\n",
       "      <td>11</td>\n",
       "      <td>1.2</td>\n",
       "      <td>1.2</td>\n",
       "      <td>1</td>\n",
       "      <td>0</td>\n",
       "      <td>0</td>\n",
       "      <td>0</td>\n",
       "      <td>0</td>\n",
       "    </tr>\n",
       "    <tr>\n",
       "      <th>3</th>\n",
       "      <td>6</td>\n",
       "      <td>GAZİANTEP</td>\n",
       "      <td>BURSASPOR</td>\n",
       "      <td>1</td>\n",
       "      <td>15</td>\n",
       "      <td>2</td>\n",
       "      <td>0.8</td>\n",
       "      <td>2.4</td>\n",
       "      <td>1</td>\n",
       "      <td>0</td>\n",
       "      <td>0</td>\n",
       "      <td>0</td>\n",
       "      <td>0</td>\n",
       "    </tr>\n",
       "    <tr>\n",
       "      <th>4</th>\n",
       "      <td>6</td>\n",
       "      <td>RİZESPOR</td>\n",
       "      <td>BEŞİKTAŞ</td>\n",
       "      <td>2</td>\n",
       "      <td>16</td>\n",
       "      <td>3</td>\n",
       "      <td>0.8</td>\n",
       "      <td>2.2</td>\n",
       "      <td>1</td>\n",
       "      <td>0</td>\n",
       "      <td>0</td>\n",
       "      <td>0</td>\n",
       "      <td>0</td>\n",
       "    </tr>\n",
       "  </tbody>\n",
       "</table>\n",
       "</div>"
      ],
      "text/plain": [
       "   week         home            away  result  home_rank  away_rank  home_form  \\\n",
       "0     6      AKHİSAR  GENÇLERBİRLİĞİ       0         14          5        0.8   \n",
       "1     6    KASIMPAŞA     KAYSERİSPOR       1         18         13        0.2   \n",
       "2     6  KARABÜKSPOR     TRABZONSPOR       1         10         11        1.2   \n",
       "3     6    GAZİANTEP       BURSASPOR       1         15          2        0.8   \n",
       "4     6     RİZESPOR        BEŞİKTAŞ       2         16          3        0.8   \n",
       "\n",
       "   away_form  2016-2017  2017-2018  2018-2019  2019-2020  2020-2021  \n",
       "0        1.8          1          0          0          0          0  \n",
       "1        1.0          1          0          0          0          0  \n",
       "2        1.2          1          0          0          0          0  \n",
       "3        2.4          1          0          0          0          0  \n",
       "4        2.2          1          0          0          0          0  "
      ]
     },
     "execution_count": 19,
     "metadata": {},
     "output_type": "execute_result"
    }
   ],
   "source": [
    "#One Hot Encoding\n",
    "df = pd.concat([df, pd.get_dummies(df[\"season\"])], axis=1)\n",
    "df.drop(\"season\", axis=1, inplace=True)\n",
    "df.head()"
   ]
  },
  {
   "cell_type": "code",
   "execution_count": 20,
   "metadata": {},
   "outputs": [
    {
     "data": {
      "text/plain": [
       "numpy.ndarray"
      ]
     },
     "execution_count": 20,
     "metadata": {},
     "output_type": "execute_result"
    }
   ],
   "source": [
    "type(df[\"week\"].unique())a"
   ]
  },
  {
   "cell_type": "code",
   "execution_count": 21,
   "metadata": {},
   "outputs": [
    {
     "data": {
      "image/png": "[encoded data removed]",
      "text/plain": [
       "<Figure size 432x288 with 1 Axes>"
      ]
     },
     "metadata": {
      "needs_background": "light"
     },
     "output_type": "display_data"
    }
   ],
   "source": [
    "df.groupby(\"week\")[\"home_rank\"].mean().plot();"
   ]
  },
  {
   "cell_type": "code",
   "execution_count": 22,
   "metadata": {},
   "outputs": [],
   "source": [
    "def get_forms(df, team):\n",
    "    team_list = []\n",
    "    week_list = []\n",
    "    temp_df = df[(df[\"home\"] == team) | (df[\"away\"] == team)]\n",
    "    for i in range(len(temp_df)):\n",
    "        if temp_df.iloc[i][\"home\"] == team:\n",
    "            team_list.append(temp_df.iloc[i][\"home_form\"])\n",
    "        else:\n",
    "            team_list.append(temp_df.iloc[i][\"away_form\"])\n",
    "        week_list.append(temp_df.iloc[i][\"week\"])\n",
    "\n",
    "    return team_list, week_list"
   ]
  },
  {
   "cell_type": "code",
   "execution_count": 25,
   "metadata": {},
   "outputs": [
    {
     "data": {
      "image/png": "[encoded data removed]",
      "text/plain": [
       "<Figure size 432x288 with 1 Axes>"
      ]
     },
     "metadata": {
      "needs_background": "light"
     },
     "output_type": "display_data"
    }
   ],
   "source": [
    "x,y = get_forms(df4, \"GALATASARAY\")\n",
    "plt.plot(y,x)\n",
    "plt.ylabel(\"Average Point\")\n",
    "plt.xlabel(\"Week\")\n",
    "plt.title(\"Galatasaray Form\")\n",
    "plt.show()"
   ]
  },
  {
   "cell_type": "code",
   "execution_count": 24,
   "metadata": {},
   "outputs": [],
   "source": [
    "#df.drop([\"goal1\", \"goal2\"], axis=1, inplace=True)\n",
    "#df"
   ]
  },
  {
   "cell_type": "code",
   "execution_count": 25,
   "metadata": {},
   "outputs": [
    {
     "data": {
      "image/png": "[encoded data removed]",
      "text/plain": [
       "<Figure size 800x600 with 1 Axes>"
      ]
     },
     "metadata": {
      "needs_background": "light"
     },
     "output_type": "display_data"
    }
   ],
   "source": [
    "from matplotlib.pyplot import figure\n",
    "figure(figsize=(8, 6), dpi=100)\n",
    "\n",
    "x1,y1 = get_forms(df1, \"BEŞİKTAŞ\")\n",
    "x2,y2 = get_forms(df1, \"GALATASARAY\")\n",
    "x3,y3 = get_forms(df1, \"FENERBAHÇE\")\n",
    "\n",
    "plt.plot(y1,x1, color=\"black\")\n",
    "plt.plot(y2,x2, color=\"red\")\n",
    "plt.plot(y3,x3, color=\"yellow\")\n",
    "\n",
    "plt.legend([\"BJK\",\"GS\",\"FB\"])\n",
    "\n",
    "plt.xlabel(\"Week\")\n",
    "plt.ylabel(\"Average Point\")\n",
    "plt.title(\"Team Form\")\n",
    "plt.show()"
   ]
  },
  {
   "cell_type": "code",
   "execution_count": 26,
   "metadata": {},
   "outputs": [
    {
     "data": {
      "text/plain": [
       "array(['AKHİSAR', 'KASIMPAŞA', 'KARABÜKSPOR', 'GAZİANTEP', 'RİZESPOR',\n",
       "       'ALANYASPOR', 'GALATASARAY', 'KONYASPOR', 'OSMANLISPOR',\n",
       "       'KAYSERİSPOR', 'ADANASPOR', 'GENÇLERBİRLİĞİ', 'BAŞAKŞEHİR',\n",
       "       'BURSASPOR', 'FENERBAHÇE', 'TRABZONSPOR', 'ANTALYASPOR',\n",
       "       'BEŞİKTAŞ', 'SİVASSPOR', 'MALATYASPOR', 'GÖZTEPE', 'ERZURUMSPOR',\n",
       "       'ANKARAGÜCÜ', 'DENİZLİSPOR', 'KARAGÜMRÜK', 'HATAYSPOR'],\n",
       "      dtype=object)"
      ]
     },
     "execution_count": 26,
     "metadata": {},
     "output_type": "execute_result"
    }
   ],
   "source": [
    "df[\"home\"].unique()"
   ]
  },
  {
   "cell_type": "code",
   "execution_count": 27,
   "metadata": {},
   "outputs": [
    {
     "data": {
      "text/plain": [
       "{'AKHİSAR': 0,\n",
       " 'KASIMPAŞA': 1,\n",
       " 'KARABÜKSPOR': 2,\n",
       " 'GAZİANTEP': 3,\n",
       " 'RİZESPOR': 4,\n",
       " 'ALANYASPOR': 5,\n",
       " 'GALATASARAY': 6,\n",
       " 'KONYASPOR': 7,\n",
       " 'OSMANLISPOR': 8,\n",
       " 'KAYSERİSPOR': 9,\n",
       " 'ADANASPOR': 10,\n",
       " 'GENÇLERBİRLİĞİ': 11,\n",
       " 'BAŞAKŞEHİR': 12,\n",
       " 'BURSASPOR': 13,\n",
       " 'FENERBAHÇE': 14,\n",
       " 'TRABZONSPOR': 15,\n",
       " 'ANTALYASPOR': 16,\n",
       " 'BEŞİKTAŞ': 17,\n",
       " 'SİVASSPOR': 18,\n",
       " 'MALATYASPOR': 19,\n",
       " 'GÖZTEPE': 20,\n",
       " 'ERZURUMSPOR': 21,\n",
       " 'ANKARAGÜCÜ': 22,\n",
       " 'DENİZLİSPOR': 23,\n",
       " 'KARAGÜMRÜK': 24,\n",
       " 'HATAYSPOR': 25}"
      ]
     },
     "execution_count": 27,
     "metadata": {},
     "output_type": "execute_result"
    }
   ],
   "source": [
    "ordinal_mapping = {\n",
    "    k: i\n",
    "    for i, k in enumerate(df['home'].unique(), 0)\n",
    "}\n",
    "\n",
    "ordinal_mapping"
   ]
  },
  {
   "cell_type": "code",
   "execution_count": 28,
   "metadata": {},
   "outputs": [
    {
     "data": {
      "text/plain": [
       "(26, 26)"
      ]
     },
     "execution_count": 28,
     "metadata": {},
     "output_type": "execute_result"
    }
   ],
   "source": [
    "tier_dict = {'BEŞİKTAŞ':1, 'GALATASARAY':1, 'FENERBAHÇE':1, 'TRABZONSPOR':2, 'BAŞAKŞEHİR':2, 'SİVASSPOR':4,\n",
    "             'ALANYASPOR':4, 'GAZİANTEP':10, 'KASIMPAŞA':6, 'ANTALYASPOR':4, 'GÖZTEPE':4, 'GENÇLERBİRLİĞİ':10,\n",
    "             'KONYASPOR':5, 'DENİZLİSPOR':10, 'RİZESPOR':10, 'MALATYASPOR':8, 'KAYSERİSPOR':10, 'ANKARAGÜCÜ':10,\n",
    "             'ERZURUMSPOR':10, 'KARAGÜMRÜK':3, 'HATAYSPOR':3, 'BURSASPOR':7, 'ADANASPOR':10, 'OSMANLISPOR':8,\n",
    "             'AKHİSAR':10,'KARABÜKSPOR':10}\n",
    "\"\"\"tier_dict = {'BEŞİKTAŞ':1, 'GALATASARAY':2, 'FENERBAHÇE':3, 'TRABZONSPOR':4, 'BAŞAKŞEHİR':5, 'SİVASSPOR':6,\n",
    "             'ALANYASPOR':7, 'BURSASPOR':8, 'KASIMPAŞA':9, 'ANTALYASPOR':10, 'GÖZTEPE':11, 'HATAYSPOR':12,\n",
    "             'KONYASPOR':13, 'DENİZLİSPOR':14, 'RİZESPOR':15, 'MALATYASPOR':16, 'KAYSERİSPOR':17, 'ANKARAGÜCÜ':18,\n",
    "             'ERZURUMSPOR':19, 'KARAGÜMRÜK':20, 'GENÇLERBİRLİĞİ':21, 'ADANASPOR':22, 'OSMANLISPOR':23, 'AKHİSAR':24,\n",
    "             'KARABÜKSPOR':25, 'GAZİANTEP':26}\"\"\"\n",
    "             \n",
    "len(tier_dict), len(df[\"home\"].unique())"
   ]
  },
  {
   "cell_type": "code",
   "execution_count": 29,
   "metadata": {},
   "outputs": [],
   "source": [
    "for i in tier_dict.keys():\n",
    "    if not i in ordinal_mapping:\n",
    "        print(i)"
   ]
  },
  {
   "cell_type": "code",
   "execution_count": 30,
   "metadata": {},
   "outputs": [
    {
     "data": {
      "text/plain": [
       "1    631\n",
       "2    426\n",
       "0    357\n",
       "Name: result, dtype: int64"
      ]
     },
     "execution_count": 30,
     "metadata": {},
     "output_type": "execute_result"
    }
   ],
   "source": [
    "df[\"result\"].value_counts()"
   ]
  },
  {
   "cell_type": "code",
   "execution_count": 31,
   "metadata": {},
   "outputs": [
    {
     "data": {
      "text/html": [
       "<div>\n",
       "<style scoped>\n",
       "    .dataframe tbody tr th:only-of-type {\n",
       "        vertical-align: middle;\n",
       "    }\n",
       "\n",
       "    .dataframe tbody tr th {\n",
       "        vertical-align: top;\n",
       "    }\n",
       "\n",
       "    .dataframe thead th {\n",
       "        text-align: right;\n",
       "    }\n",
       "</style>\n",
       "<table border=\"1\" class=\"dataframe\">\n",
       "  <thead>\n",
       "    <tr style=\"text-align: right;\">\n",
       "      <th></th>\n",
       "      <th>week</th>\n",
       "      <th>home</th>\n",
       "      <th>away</th>\n",
       "      <th>result</th>\n",
       "      <th>home_rank</th>\n",
       "      <th>away_rank</th>\n",
       "      <th>home_form</th>\n",
       "      <th>away_form</th>\n",
       "      <th>2016-2017</th>\n",
       "      <th>2017-2018</th>\n",
       "      <th>2018-2019</th>\n",
       "      <th>2019-2020</th>\n",
       "      <th>2020-2021</th>\n",
       "    </tr>\n",
       "  </thead>\n",
       "  <tbody>\n",
       "    <tr>\n",
       "      <th>0</th>\n",
       "      <td>6</td>\n",
       "      <td>10</td>\n",
       "      <td>10</td>\n",
       "      <td>0</td>\n",
       "      <td>14</td>\n",
       "      <td>5</td>\n",
       "      <td>0.80</td>\n",
       "      <td>1.8</td>\n",
       "      <td>1</td>\n",
       "      <td>0</td>\n",
       "      <td>0</td>\n",
       "      <td>0</td>\n",
       "      <td>0</td>\n",
       "    </tr>\n",
       "    <tr>\n",
       "      <th>1</th>\n",
       "      <td>6</td>\n",
       "      <td>6</td>\n",
       "      <td>10</td>\n",
       "      <td>1</td>\n",
       "      <td>18</td>\n",
       "      <td>13</td>\n",
       "      <td>0.20</td>\n",
       "      <td>1.0</td>\n",
       "      <td>1</td>\n",
       "      <td>0</td>\n",
       "      <td>0</td>\n",
       "      <td>0</td>\n",
       "      <td>0</td>\n",
       "    </tr>\n",
       "    <tr>\n",
       "      <th>2</th>\n",
       "      <td>6</td>\n",
       "      <td>10</td>\n",
       "      <td>2</td>\n",
       "      <td>1</td>\n",
       "      <td>10</td>\n",
       "      <td>11</td>\n",
       "      <td>1.20</td>\n",
       "      <td>1.2</td>\n",
       "      <td>1</td>\n",
       "      <td>0</td>\n",
       "      <td>0</td>\n",
       "      <td>0</td>\n",
       "      <td>0</td>\n",
       "    </tr>\n",
       "    <tr>\n",
       "      <th>3</th>\n",
       "      <td>6</td>\n",
       "      <td>10</td>\n",
       "      <td>7</td>\n",
       "      <td>1</td>\n",
       "      <td>15</td>\n",
       "      <td>2</td>\n",
       "      <td>0.80</td>\n",
       "      <td>2.4</td>\n",
       "      <td>1</td>\n",
       "      <td>0</td>\n",
       "      <td>0</td>\n",
       "      <td>0</td>\n",
       "      <td>0</td>\n",
       "    </tr>\n",
       "    <tr>\n",
       "      <th>4</th>\n",
       "      <td>6</td>\n",
       "      <td>10</td>\n",
       "      <td>1</td>\n",
       "      <td>2</td>\n",
       "      <td>16</td>\n",
       "      <td>3</td>\n",
       "      <td>0.80</td>\n",
       "      <td>2.2</td>\n",
       "      <td>1</td>\n",
       "      <td>0</td>\n",
       "      <td>0</td>\n",
       "      <td>0</td>\n",
       "      <td>0</td>\n",
       "    </tr>\n",
       "    <tr>\n",
       "      <th>...</th>\n",
       "      <td>...</td>\n",
       "      <td>...</td>\n",
       "      <td>...</td>\n",
       "      <td>...</td>\n",
       "      <td>...</td>\n",
       "      <td>...</td>\n",
       "      <td>...</td>\n",
       "      <td>...</td>\n",
       "      <td>...</td>\n",
       "      <td>...</td>\n",
       "      <td>...</td>\n",
       "      <td>...</td>\n",
       "      <td>...</td>\n",
       "    </tr>\n",
       "    <tr>\n",
       "      <th>365</th>\n",
       "      <td>42</td>\n",
       "      <td>4</td>\n",
       "      <td>5</td>\n",
       "      <td>0</td>\n",
       "      <td>16</td>\n",
       "      <td>11</td>\n",
       "      <td>0.25</td>\n",
       "      <td>1.6</td>\n",
       "      <td>0</td>\n",
       "      <td>0</td>\n",
       "      <td>0</td>\n",
       "      <td>0</td>\n",
       "      <td>1</td>\n",
       "    </tr>\n",
       "    <tr>\n",
       "      <th>366</th>\n",
       "      <td>42</td>\n",
       "      <td>10</td>\n",
       "      <td>1</td>\n",
       "      <td>2</td>\n",
       "      <td>17</td>\n",
       "      <td>3</td>\n",
       "      <td>1.20</td>\n",
       "      <td>2.0</td>\n",
       "      <td>0</td>\n",
       "      <td>0</td>\n",
       "      <td>0</td>\n",
       "      <td>0</td>\n",
       "      <td>1</td>\n",
       "    </tr>\n",
       "    <tr>\n",
       "      <th>367</th>\n",
       "      <td>42</td>\n",
       "      <td>1</td>\n",
       "      <td>8</td>\n",
       "      <td>1</td>\n",
       "      <td>2</td>\n",
       "      <td>14</td>\n",
       "      <td>3.00</td>\n",
       "      <td>1.6</td>\n",
       "      <td>0</td>\n",
       "      <td>0</td>\n",
       "      <td>0</td>\n",
       "      <td>0</td>\n",
       "      <td>1</td>\n",
       "    </tr>\n",
       "    <tr>\n",
       "      <th>368</th>\n",
       "      <td>42</td>\n",
       "      <td>4</td>\n",
       "      <td>1</td>\n",
       "      <td>2</td>\n",
       "      <td>10</td>\n",
       "      <td>1</td>\n",
       "      <td>1.00</td>\n",
       "      <td>1.8</td>\n",
       "      <td>0</td>\n",
       "      <td>0</td>\n",
       "      <td>0</td>\n",
       "      <td>0</td>\n",
       "      <td>1</td>\n",
       "    </tr>\n",
       "    <tr>\n",
       "      <th>369</th>\n",
       "      <td>42</td>\n",
       "      <td>2</td>\n",
       "      <td>10</td>\n",
       "      <td>1</td>\n",
       "      <td>4</td>\n",
       "      <td>20</td>\n",
       "      <td>2.00</td>\n",
       "      <td>1.2</td>\n",
       "      <td>0</td>\n",
       "      <td>0</td>\n",
       "      <td>0</td>\n",
       "      <td>0</td>\n",
       "      <td>1</td>\n",
       "    </tr>\n",
       "  </tbody>\n",
       "</table>\n",
       "<p>1414 rows × 13 columns</p>\n",
       "</div>"
      ],
      "text/plain": [
       "     week  home  away  result  home_rank  away_rank  home_form  away_form  \\\n",
       "0       6    10    10       0         14          5       0.80        1.8   \n",
       "1       6     6    10       1         18         13       0.20        1.0   \n",
       "2       6    10     2       1         10         11       1.20        1.2   \n",
       "3       6    10     7       1         15          2       0.80        2.4   \n",
       "4       6    10     1       2         16          3       0.80        2.2   \n",
       "..    ...   ...   ...     ...        ...        ...        ...        ...   \n",
       "365    42     4     5       0         16         11       0.25        1.6   \n",
       "366    42    10     1       2         17          3       1.20        2.0   \n",
       "367    42     1     8       1          2         14       3.00        1.6   \n",
       "368    42     4     1       2         10          1       1.00        1.8   \n",
       "369    42     2    10       1          4         20       2.00        1.2   \n",
       "\n",
       "     2016-2017  2017-2018  2018-2019  2019-2020  2020-2021  \n",
       "0            1          0          0          0          0  \n",
       "1            1          0          0          0          0  \n",
       "2            1          0          0          0          0  \n",
       "3            1          0          0          0          0  \n",
       "4            1          0          0          0          0  \n",
       "..         ...        ...        ...        ...        ...  \n",
       "365          0          0          0          0          1  \n",
       "366          0          0          0          0          1  \n",
       "367          0          0          0          0          1  \n",
       "368          0          0          0          0          1  \n",
       "369          0          0          0          0          1  \n",
       "\n",
       "[1414 rows x 13 columns]"
      ]
     },
     "execution_count": 31,
     "metadata": {},
     "output_type": "execute_result"
    }
   ],
   "source": [
    "df[\"home\"] = df[\"home\"].map(tier_dict)\n",
    "df[\"away\"] = df[\"away\"].map(tier_dict)\n",
    "df"
   ]
  },
  {
   "cell_type": "code",
   "execution_count": 32,
   "metadata": {},
   "outputs": [
    {
     "data": {
      "text/html": [
       "<div>\n",
       "<style scoped>\n",
       "    .dataframe tbody tr th:only-of-type {\n",
       "        vertical-align: middle;\n",
       "    }\n",
       "\n",
       "    .dataframe tbody tr th {\n",
       "        vertical-align: top;\n",
       "    }\n",
       "\n",
       "    .dataframe thead th {\n",
       "        text-align: right;\n",
       "    }\n",
       "</style>\n",
       "<table border=\"1\" class=\"dataframe\">\n",
       "  <thead>\n",
       "    <tr style=\"text-align: right;\">\n",
       "      <th></th>\n",
       "      <th>week</th>\n",
       "      <th>home</th>\n",
       "      <th>away</th>\n",
       "      <th>result</th>\n",
       "      <th>home_rank</th>\n",
       "      <th>away_rank</th>\n",
       "      <th>home_form</th>\n",
       "      <th>away_form</th>\n",
       "    </tr>\n",
       "  </thead>\n",
       "  <tbody>\n",
       "    <tr>\n",
       "      <th>0</th>\n",
       "      <td>6</td>\n",
       "      <td>10</td>\n",
       "      <td>10</td>\n",
       "      <td>0</td>\n",
       "      <td>14</td>\n",
       "      <td>5</td>\n",
       "      <td>0.80</td>\n",
       "      <td>1.8</td>\n",
       "    </tr>\n",
       "    <tr>\n",
       "      <th>1</th>\n",
       "      <td>6</td>\n",
       "      <td>6</td>\n",
       "      <td>10</td>\n",
       "      <td>1</td>\n",
       "      <td>18</td>\n",
       "      <td>13</td>\n",
       "      <td>0.20</td>\n",
       "      <td>1.0</td>\n",
       "    </tr>\n",
       "    <tr>\n",
       "      <th>2</th>\n",
       "      <td>6</td>\n",
       "      <td>10</td>\n",
       "      <td>2</td>\n",
       "      <td>1</td>\n",
       "      <td>10</td>\n",
       "      <td>11</td>\n",
       "      <td>1.20</td>\n",
       "      <td>1.2</td>\n",
       "    </tr>\n",
       "    <tr>\n",
       "      <th>3</th>\n",
       "      <td>6</td>\n",
       "      <td>10</td>\n",
       "      <td>7</td>\n",
       "      <td>1</td>\n",
       "      <td>15</td>\n",
       "      <td>2</td>\n",
       "      <td>0.80</td>\n",
       "      <td>2.4</td>\n",
       "    </tr>\n",
       "    <tr>\n",
       "      <th>4</th>\n",
       "      <td>6</td>\n",
       "      <td>10</td>\n",
       "      <td>1</td>\n",
       "      <td>2</td>\n",
       "      <td>16</td>\n",
       "      <td>3</td>\n",
       "      <td>0.80</td>\n",
       "      <td>2.2</td>\n",
       "    </tr>\n",
       "    <tr>\n",
       "      <th>...</th>\n",
       "      <td>...</td>\n",
       "      <td>...</td>\n",
       "      <td>...</td>\n",
       "      <td>...</td>\n",
       "      <td>...</td>\n",
       "      <td>...</td>\n",
       "      <td>...</td>\n",
       "      <td>...</td>\n",
       "    </tr>\n",
       "    <tr>\n",
       "      <th>365</th>\n",
       "      <td>42</td>\n",
       "      <td>4</td>\n",
       "      <td>5</td>\n",
       "      <td>0</td>\n",
       "      <td>16</td>\n",
       "      <td>11</td>\n",
       "      <td>0.25</td>\n",
       "      <td>1.6</td>\n",
       "    </tr>\n",
       "    <tr>\n",
       "      <th>366</th>\n",
       "      <td>42</td>\n",
       "      <td>10</td>\n",
       "      <td>1</td>\n",
       "      <td>2</td>\n",
       "      <td>17</td>\n",
       "      <td>3</td>\n",
       "      <td>1.20</td>\n",
       "      <td>2.0</td>\n",
       "    </tr>\n",
       "    <tr>\n",
       "      <th>367</th>\n",
       "      <td>42</td>\n",
       "      <td>1</td>\n",
       "      <td>8</td>\n",
       "      <td>1</td>\n",
       "      <td>2</td>\n",
       "      <td>14</td>\n",
       "      <td>3.00</td>\n",
       "      <td>1.6</td>\n",
       "    </tr>\n",
       "    <tr>\n",
       "      <th>368</th>\n",
       "      <td>42</td>\n",
       "      <td>4</td>\n",
       "      <td>1</td>\n",
       "      <td>2</td>\n",
       "      <td>10</td>\n",
       "      <td>1</td>\n",
       "      <td>1.00</td>\n",
       "      <td>1.8</td>\n",
       "    </tr>\n",
       "    <tr>\n",
       "      <th>369</th>\n",
       "      <td>42</td>\n",
       "      <td>2</td>\n",
       "      <td>10</td>\n",
       "      <td>1</td>\n",
       "      <td>4</td>\n",
       "      <td>20</td>\n",
       "      <td>2.00</td>\n",
       "      <td>1.2</td>\n",
       "    </tr>\n",
       "  </tbody>\n",
       "</table>\n",
       "<p>1414 rows × 8 columns</p>\n",
       "</div>"
      ],
      "text/plain": [
       "     week  home  away  result  home_rank  away_rank  home_form  away_form\n",
       "0       6    10    10       0         14          5       0.80        1.8\n",
       "1       6     6    10       1         18         13       0.20        1.0\n",
       "2       6    10     2       1         10         11       1.20        1.2\n",
       "3       6    10     7       1         15          2       0.80        2.4\n",
       "4       6    10     1       2         16          3       0.80        2.2\n",
       "..    ...   ...   ...     ...        ...        ...        ...        ...\n",
       "365    42     4     5       0         16         11       0.25        1.6\n",
       "366    42    10     1       2         17          3       1.20        2.0\n",
       "367    42     1     8       1          2         14       3.00        1.6\n",
       "368    42     4     1       2         10          1       1.00        1.8\n",
       "369    42     2    10       1          4         20       2.00        1.2\n",
       "\n",
       "[1414 rows x 8 columns]"
      ]
     },
     "execution_count": 32,
     "metadata": {},
     "output_type": "execute_result"
    }
   ],
   "source": [
    "df.drop([\"2016-2017\", \"2017-2018\", \"2018-2019\", \"2019-2020\", \"2020-2021\"], axis=1, inplace=True)\n",
    "df"
   ]
  },
  {
   "cell_type": "code",
   "execution_count": 33,
   "metadata": {},
   "outputs": [],
   "source": [
    "import numpy as np\n",
    "import pandas as pd \n",
    "import statsmodels.api as sm\n",
    "import statsmodels.formula.api as smf\n",
    "import seaborn as sns\n",
    "from sklearn.preprocessing import scale \n",
    "from sklearn.model_selection import train_test_split, GridSearchCV, cross_val_score\n",
    "from sklearn.metrics import confusion_matrix, accuracy_score, classification_report\n",
    "from sklearn.metrics import roc_auc_score,roc_curve\n",
    "import statsmodels.formula.api as smf\n",
    "import matplotlib.pyplot as plt\n",
    "from sklearn.neighbors import KNeighborsClassifier\n",
    "from sklearn.discriminant_analysis import LinearDiscriminantAnalysis\n",
    "from sklearn.linear_model import LogisticRegression\n",
    "from sklearn.svm import SVC\n",
    "from sklearn.naive_bayes import GaussianNB\n",
    "from sklearn import tree\n",
    "from xgboost import XGBClassifier\n",
    "from sklearn.ensemble import RandomForestClassifier\n",
    "from sklearn.ensemble import GradientBoostingClassifier\n",
    "\n",
    "import warnings\n",
    "warnings.filterwarnings('ignore')"
   ]
  },
  {
   "cell_type": "code",
   "execution_count": 34,
   "metadata": {},
   "outputs": [],
   "source": [
    "y = df[\"result\"]\n",
    "X = df.drop(\"result\", axis=1)"
   ]
  },
  {
   "cell_type": "code",
   "execution_count": 35,
   "metadata": {},
   "outputs": [],
   "source": [
    "from sklearn import linear_model, model_selection, metrics\n",
    "\n",
    "X_train, X_test, y_train, y_test = model_selection.train_test_split(X, y, test_size=0.2, random_state=0)"
   ]
  },
  {
   "cell_type": "code",
   "execution_count": 36,
   "metadata": {},
   "outputs": [],
   "source": [
    "#Scaling Data\n",
    "from sklearn.preprocessing import StandardScaler\n",
    "\n",
    "scaler = StandardScaler()\n",
    "scaler.fit(X_train)\n",
    "X_train_scaled = scaler.transform(X_train)\n",
    "X_test_scaled = scaler.transform(X_test)"
   ]
  },
  {
   "cell_type": "code",
   "execution_count": 37,
   "metadata": {},
   "outputs": [
    {
     "data": {
      "text/plain": [
       "((1131, 7), (283, 7), (1131,), (283,))"
      ]
     },
     "execution_count": 37,
     "metadata": {},
     "output_type": "execute_result"
    }
   ],
   "source": [
    "X_train.shape, X_test.shape, y_train.shape, y_test.shape"
   ]
  },
  {
   "cell_type": "code",
   "execution_count": 38,
   "metadata": {},
   "outputs": [
    {
     "data": {
      "text/plain": [
       "((1131, 7), (283, 7), (1131,), (283,))"
      ]
     },
     "execution_count": 38,
     "metadata": {},
     "output_type": "execute_result"
    }
   ],
   "source": [
    "X_train_scaled.shape, X_test_scaled.shape, y_train.shape, y_test.shape"
   ]
  },
  {
   "cell_type": "code",
   "execution_count": 57,
   "metadata": {},
   "outputs": [
    {
     "name": "stdout",
     "output_type": "stream",
     "text": [
      "Train Acc:  0.48809967396367027\n",
      "Test Acc:  0.5545566502463054\n"
     ]
    }
   ],
   "source": [
    "loj = LogisticRegression(solver = \"saga\")\n",
    "loj_model = loj.fit(X_train_scaled,y_train)\n",
    "print(\"Train Acc: \", cross_val_score(loj_model, X_train, y_train, cv = 10).mean())\n",
    "print(\"Test Acc: \", cross_val_score(loj_model, X_test, y_test, cv = 10).mean())\n",
    "#newton-cg', 'lbfgs', 'sag', 'saga"
   ]
  },
  {
   "cell_type": "code",
   "execution_count": 50,
   "metadata": {},
   "outputs": [
    {
     "data": {
      "text/plain": [
       "array([2, 2, 0, 2, 2, 0, 2, 1, 0, 2, 0, 2, 0, 1, 2, 1, 2, 2, 0, 0, 1, 1,\n",
       "       2, 0, 0, 2, 1, 2, 2, 1, 0, 1, 0, 1, 1, 0, 2, 2, 2, 2, 2, 2, 2, 2,\n",
       "       2, 1, 2, 1, 0, 0, 1, 2, 2, 2, 2, 0, 2, 0, 2, 2, 2, 2, 1, 2, 2, 2,\n",
       "       2, 1, 1, 0, 2, 1, 2, 1, 0, 0, 2, 0, 2, 2, 1, 2, 1, 2, 0, 2, 2, 1,\n",
       "       2, 0, 1, 0, 2, 0, 2, 2, 0, 2, 0, 2, 0, 1, 2, 1, 2, 2, 0, 2, 2, 0,\n",
       "       2, 2, 2, 0, 2, 2, 2, 2, 2, 1, 1, 0, 2, 2, 2, 1, 0, 2, 2, 0, 2, 0,\n",
       "       0, 2, 2, 0, 0, 1, 2, 1, 2, 0, 0, 2, 2, 2, 2, 0, 2, 0, 0, 2, 2, 0,\n",
       "       2, 0, 2, 2, 2, 2, 2, 2, 2, 2, 0, 2, 1, 0, 2, 0, 2, 0, 2, 0, 1, 2,\n",
       "       1, 2, 2, 2, 1, 2, 0, 0, 0, 0, 1, 2, 0, 0, 0, 2, 2, 2, 2, 0, 2, 2,\n",
       "       1, 0, 2, 2, 0, 2, 1, 0, 2, 0, 0, 2, 2, 0, 2, 0, 2, 0, 2, 2, 0, 2,\n",
       "       2, 0, 2, 2, 0, 0, 2, 2, 1, 0, 2, 0, 2, 1, 2, 2, 0, 1, 0, 0, 1, 2,\n",
       "       2, 2, 1, 0, 2, 0, 0, 2, 2, 2, 2, 2, 1, 1, 1, 0, 2, 2, 2, 2, 1, 2,\n",
       "       0, 1, 0, 2, 2, 2, 2, 1, 2, 1, 0, 2, 1, 2, 0, 2, 1, 1, 1],\n",
       "      dtype=int64)"
      ]
     },
     "execution_count": 50,
     "metadata": {},
     "output_type": "execute_result"
    }
   ],
   "source": [
    "loj.predict(X_test)"
   ]
  },
  {
   "cell_type": "code",
   "execution_count": 51,
   "metadata": {},
   "outputs": [
    {
     "name": "stdout",
     "output_type": "stream",
     "text": [
      "[[  0 333]\n",
      " [  1 233]\n",
      " [  2 565]]\n"
     ]
    }
   ],
   "source": [
    "arr = loj.predict(X_train)\n",
    "unique, counts = np.unique(arr, return_counts=True)\n",
    "\n",
    "print(np.asarray((unique, counts)).T)"
   ]
  },
  {
   "cell_type": "code",
   "execution_count": null,
   "metadata": {},
   "outputs": [],
   "source": []
  },
  {
   "cell_type": "code",
   "execution_count": 238,
   "metadata": {},
   "outputs": [
    {
     "data": {
      "text/plain": [
       "GaussianNB()"
      ]
     },
     "execution_count": 238,
     "metadata": {},
     "output_type": "execute_result"
    }
   ],
   "source": [
    "nb = GaussianNB()\n",
    "nb_model = nb.fit(X_train, y_train)\n",
    "nb_model"
   ]
  },
  {
   "cell_type": "code",
   "execution_count": 239,
   "metadata": {},
   "outputs": [
    {
     "name": "stdout",
     "output_type": "stream",
     "text": [
      "Train Acc:  0.4991150442477877\n",
      "Test Acc:  0.49064039408867\n"
     ]
    }
   ],
   "source": [
    "print(\"Train Acc: \", cross_val_score(nb_model, X_train, y_train, cv = 10).mean())\n",
    "print(\"Test Acc: \", cross_val_score(nb_model, X_test, y_test, cv = 10).mean())"
   ]
  },
  {
   "cell_type": "code",
   "execution_count": null,
   "metadata": {},
   "outputs": [],
   "source": []
  },
  {
   "cell_type": "code",
   "execution_count": 249,
   "metadata": {},
   "outputs": [
    {
     "name": "stdout",
     "output_type": "stream",
     "text": [
      "En iyi skor:0.5097345132743363\n",
      "En iyi parametreler: {'n_neighbors': 48}\n"
     ]
    }
   ],
   "source": [
    "knn_params = {\"n_neighbors\": np.arange(1,50)}\n",
    "knn = KNeighborsClassifier()\n",
    "knn_cv = GridSearchCV(knn, knn_params, cv=10)\n",
    "knn_cv.fit(X_train, y_train)\n",
    "print(\"En iyi skor:\" + str(knn_cv.best_score_))\n",
    "print(\"En iyi parametreler: \" + str(knn_cv.best_params_))"
   ]
  },
  {
   "cell_type": "code",
   "execution_count": 307,
   "metadata": {},
   "outputs": [
    {
     "data": {
      "text/plain": [
       "0.5053003533568905"
      ]
     },
     "execution_count": 307,
     "metadata": {},
     "output_type": "execute_result"
    }
   ],
   "source": [
    "knn = KNeighborsClassifier(n_neighbors=48)\n",
    "knn_tuned = knn.fit(X_train, y_train)\n",
    "knn_tuned.score(X_test, y_test)"
   ]
  },
  {
   "cell_type": "code",
   "execution_count": 308,
   "metadata": {},
   "outputs": [
    {
     "name": "stdout",
     "output_type": "stream",
     "text": [
      "Train Score:  0.5194690265486726\n"
     ]
    }
   ],
   "source": [
    "print(\"Train Score: \", knn_tuned.score(X_train, y_train))"
   ]
  },
  {
   "cell_type": "code",
   "execution_count": 248,
   "metadata": {},
   "outputs": [
    {
     "name": "stdout",
     "output_type": "stream",
     "text": [
      "0.508833922261484\n"
     ]
    },
    {
     "data": {
      "image/png": "[encoded data removed]",
      "text/plain": [
       "<Figure size 432x288 with 1 Axes>"
      ]
     },
     "metadata": {
      "needs_background": "light"
     },
     "output_type": "display_data"
    }
   ],
   "source": [
    "pred_list = []\n",
    "for i in range(1,50):\n",
    "    knn = KNeighborsClassifier(n_neighbors=i)\n",
    "    knn_tuned = knn.fit(X_train, y_train)\n",
    "    pred_list.append(knn_tuned.score(X_test, y_test))\n",
    "\n",
    "pred_list\n",
    "plt.plot(pred_list);\n",
    "print(max(pred_list))"
   ]
  },
  {
   "cell_type": "code",
   "execution_count": 253,
   "metadata": {},
   "outputs": [
    {
     "data": {
      "text/plain": [
       "0.508833922261484"
      ]
     },
     "execution_count": 253,
     "metadata": {},
     "output_type": "execute_result"
    }
   ],
   "source": [
    "index = pred_list.index(max(pred_list))\n",
    "pred_list[index]"
   ]
  },
  {
   "cell_type": "code",
   "execution_count": 254,
   "metadata": {},
   "outputs": [
    {
     "data": {
      "text/plain": [
       "0.5053003533568905"
      ]
     },
     "execution_count": 254,
     "metadata": {},
     "output_type": "execute_result"
    }
   ],
   "source": [
    "y_pred = knn_tuned.predict(X_test)\n",
    "accuracy_score(y_test, y_pred)"
   ]
  },
  {
   "cell_type": "code",
   "execution_count": 255,
   "metadata": {},
   "outputs": [
    {
     "data": {
      "text/plain": [
       "0.5194690265486726"
      ]
     },
     "execution_count": 255,
     "metadata": {},
     "output_type": "execute_result"
    }
   ],
   "source": [
    "y_pred = knn_tuned.predict(X_train)\n",
    "accuracy_score(y_train, y_pred)"
   ]
  },
  {
   "cell_type": "code",
   "execution_count": 256,
   "metadata": {},
   "outputs": [
    {
     "data": {
      "text/plain": [
       "array([2, 1, 1, 1, 2, 1, 1, 2, 1, 1, 2, 1, 2, 1, 1, 2, 2, 2, 1, 0, 2, 2,\n",
       "       1, 2, 1, 2, 2, 1, 1, 1, 1, 2, 2, 2, 1, 1, 1, 1, 1, 1, 2, 1, 1, 2,\n",
       "       1, 1, 2, 1, 1, 1, 1, 1, 1, 1, 1, 2, 1, 1, 1, 1, 1, 2, 1, 1, 1, 1,\n",
       "       0, 1, 1, 2, 1, 1, 1, 1, 2, 1, 1, 1, 1, 2, 2, 1, 1, 1, 1, 2, 0, 1,\n",
       "       2, 1, 1, 1, 2, 1, 2, 1, 1, 1, 1, 1, 2, 0, 1, 1, 1, 1, 1, 1, 1, 1,\n",
       "       1, 2, 1, 1, 1, 1, 1, 1, 2, 2, 1, 2, 2, 1, 2, 1, 1, 2, 1, 1, 1, 2,\n",
       "       2, 1, 1, 1, 1, 1, 2, 1, 2, 2, 1, 1, 1, 1, 1, 2, 1, 1, 1, 1, 1, 1,\n",
       "       2, 1, 2, 2, 1, 1, 2, 1, 2, 2, 1, 1, 1, 1, 2, 2, 2, 1, 1, 2, 2, 2,\n",
       "       2, 1, 2, 1, 1, 1, 0, 2, 2, 1, 2, 1, 2, 1, 1, 1, 0, 1, 1, 1, 1, 2,\n",
       "       1, 1, 1, 1, 1, 1, 1, 2, 1, 1, 2, 1, 1, 1, 2, 1, 1, 2, 1, 2, 2, 1,\n",
       "       1, 1, 1, 2, 1, 2, 1, 1, 1, 1, 1, 1, 1, 1, 1, 1, 1, 2, 1, 1, 1, 2,\n",
       "       1, 1, 1, 2, 1, 2, 1, 1, 1, 1, 1, 1, 1, 1, 2, 2, 2, 1, 1, 2, 1, 2,\n",
       "       1, 2, 1, 0, 1, 1, 1, 2, 1, 2, 2, 1, 1, 1, 1, 1, 2, 2, 0],\n",
       "      dtype=int64)"
      ]
     },
     "execution_count": 256,
     "metadata": {},
     "output_type": "execute_result"
    }
   ],
   "source": [
    "knn_tuned.predict(X_test)"
   ]
  },
  {
   "cell_type": "code",
   "execution_count": 309,
   "metadata": {},
   "outputs": [
    {
     "name": "stdout",
     "output_type": "stream",
     "text": [
      "[[  0  31]\n",
      " [  1 811]\n",
      " [  2 288]]\n"
     ]
    }
   ],
   "source": [
    "arr = knn_tuned.predict(X_train)\n",
    "unique, counts = np.unique(arr, return_counts=True)\n",
    "\n",
    "print(np.asarray((unique, counts)).T)"
   ]
  },
  {
   "cell_type": "code",
   "execution_count": null,
   "metadata": {},
   "outputs": [],
   "source": []
  },
  {
   "cell_type": "code",
   "execution_count": 261,
   "metadata": {},
   "outputs": [
    {
     "name": "stdout",
     "output_type": "stream",
     "text": [
      "Fitting 10 folds for each of 38 candidates, totalling 380 fits\n"
     ]
    },
    {
     "data": {
      "text/plain": [
       "GridSearchCV(cv=10, estimator=SVC(), n_jobs=-1,\n",
       "             param_grid={'C': array([ 1,  2,  3,  4,  5,  6,  7,  8,  9, 10, 11, 12, 13, 14, 15, 16, 17,\n",
       "       18, 19]),\n",
       "                         'kernel': ['linear', 'rbf']},\n",
       "             verbose=2)"
      ]
     },
     "execution_count": 261,
     "metadata": {},
     "output_type": "execute_result"
    }
   ],
   "source": [
    "svc_params = {\"kernel\": [\"linear\", \"rbf\"], \"C\": np.arange(1,20)}\n",
    "\n",
    "svc = SVC()\n",
    "\n",
    "svc_cv_model = GridSearchCV(svc,svc_params, \n",
    "                            cv = 10, \n",
    "                            n_jobs = -1, \n",
    "                            verbose = 2 )\n",
    "\n",
    "svc_cv_model.fit(X_train_scaled, y_train)"
   ]
  },
  {
   "cell_type": "code",
   "execution_count": 262,
   "metadata": {},
   "outputs": [
    {
     "name": "stdout",
     "output_type": "stream",
     "text": [
      "En iyi parametreler: {'C': 1, 'kernel': 'linear'}\n"
     ]
    }
   ],
   "source": [
    "print(\"En iyi parametreler: \" + str(svc_cv_model.best_params_))"
   ]
  },
  {
   "cell_type": "code",
   "execution_count": 310,
   "metadata": {},
   "outputs": [
    {
     "data": {
      "text/plain": [
       "0.508833922261484"
      ]
     },
     "execution_count": 310,
     "metadata": {},
     "output_type": "execute_result"
    }
   ],
   "source": [
    "svc_tuned = SVC(kernel = \"linear\", C = 1).fit(X_train_scaled, y_train)\n",
    "y_pred = svc_tuned.predict(X_test_scaled)\n",
    "accuracy_score(y_test, y_pred)"
   ]
  },
  {
   "cell_type": "code",
   "execution_count": 311,
   "metadata": {},
   "outputs": [
    {
     "data": {
      "text/plain": [
       "0.5168141592920354"
      ]
     },
     "execution_count": 311,
     "metadata": {},
     "output_type": "execute_result"
    }
   ],
   "source": [
    "accuracy_score(y_train, svc_tuned.predict(X_train_scaled))"
   ]
  },
  {
   "cell_type": "code",
   "execution_count": 312,
   "metadata": {},
   "outputs": [
    {
     "name": "stdout",
     "output_type": "stream",
     "text": [
      "[[  0 254]\n",
      " [  1 516]\n",
      " [  2 360]]\n"
     ]
    }
   ],
   "source": [
    "arr = svc_tuned.predict(X_train)\n",
    "unique, counts = np.unique(arr, return_counts=True)\n",
    "\n",
    "print(np.asarray((unique, counts)).T)"
   ]
  },
  {
   "cell_type": "code",
   "execution_count": null,
   "metadata": {},
   "outputs": [],
   "source": []
  },
  {
   "cell_type": "code",
   "execution_count": 285,
   "metadata": {},
   "outputs": [
    {
     "data": {
      "text/plain": [
       "'#sonuç 1\\nx = df.iloc[-1]\\nx = x.drop(\"result\")\\nx_scaled = scaler.transform((x,))\\nx_scaled'"
      ]
     },
     "execution_count": 285,
     "metadata": {},
     "output_type": "execute_result"
    }
   ],
   "source": [
    "\"\"\"#sonuç 1\n",
    "x = df.iloc[-1]\n",
    "x = x.drop(\"result\")\n",
    "x_scaled = scaler.transform((x,))\n",
    "x_scaled\"\"\""
   ]
  },
  {
   "cell_type": "code",
   "execution_count": 286,
   "metadata": {},
   "outputs": [
    {
     "data": {
      "text/plain": [
       "array([2, 0, 1, 0, 2, 1, 0, 2, 2, 1, 2, 0, 2, 0, 1, 2, 2, 2, 1, 2, 0, 2,\n",
       "       1, 2, 1, 2, 2, 1, 1, 1, 1, 2, 2, 0, 1, 1, 1, 0, 1, 1, 2, 1, 1, 2,\n",
       "       1, 1, 0, 1, 1, 1, 1, 1, 0, 1, 1, 2, 1, 1, 1, 0, 1, 2, 1, 0, 1, 1,\n",
       "       2, 1, 2, 2, 1, 1, 1, 1, 2, 1, 1, 2, 0, 2, 2, 1, 1, 0, 0, 2, 2, 1,\n",
       "       2, 0, 2, 2, 2, 1, 2, 0, 1, 1, 1, 0, 2, 0, 1, 1, 1, 1, 1, 0, 0, 1,\n",
       "       2, 2, 1, 1, 0, 1, 0, 1, 2, 2, 1, 2, 2, 2, 2, 0, 0, 2, 0, 1, 1, 2,\n",
       "       2, 1, 0, 2, 1, 0, 2, 1, 2, 2, 1, 1, 1, 1, 1, 2, 0, 2, 1, 1, 2, 1,\n",
       "       2, 1, 2, 2, 0, 1, 2, 1, 2, 2, 1, 1, 2, 1, 2, 2, 2, 1, 0, 2, 2, 2,\n",
       "       2, 1, 2, 2, 0, 2, 2, 2, 0, 1, 2, 1, 2, 1, 1, 1, 0, 1, 1, 1, 1, 2,\n",
       "       1, 1, 1, 0, 1, 1, 0, 2, 1, 0, 2, 1, 1, 1, 2, 1, 0, 2, 2, 2, 2, 0,\n",
       "       0, 2, 1, 2, 0, 2, 1, 1, 1, 0, 1, 1, 1, 1, 2, 1, 0, 2, 1, 1, 1, 2,\n",
       "       0, 1, 1, 2, 1, 2, 1, 0, 1, 1, 0, 1, 0, 1, 2, 2, 2, 2, 0, 2, 2, 0,\n",
       "       1, 2, 1, 2, 1, 0, 0, 2, 2, 2, 2, 2, 0, 1, 0, 1, 2, 2, 2],\n",
       "      dtype=int64)"
      ]
     },
     "execution_count": 286,
     "metadata": {},
     "output_type": "execute_result"
    }
   ],
   "source": [
    "svc_tuned.predict(X_test)"
   ]
  },
  {
   "cell_type": "code",
   "execution_count": null,
   "metadata": {},
   "outputs": [],
   "source": []
  },
  {
   "cell_type": "code",
   "execution_count": 303,
   "metadata": {},
   "outputs": [
    {
     "name": "stdout",
     "output_type": "stream",
     "text": [
      "Fitting 10 folds for each of 108 candidates, totalling 1080 fits\n"
     ]
    },
    {
     "data": {
      "text/plain": [
       "GridSearchCV(cv=10, estimator=RandomForestClassifier(), n_jobs=-1,\n",
       "             param_grid={'max_depth': [2, 5, 8, 10], 'max_features': [2, 5, 8],\n",
       "                         'min_samples_split': [2, 5, 10],\n",
       "                         'n_estimators': [10, 500, 1000]},\n",
       "             verbose=2)"
      ]
     },
     "execution_count": 303,
     "metadata": {},
     "output_type": "execute_result"
    }
   ],
   "source": [
    "rf_params = {\"max_depth\": [2,5,8,10],\n",
    "            \"max_features\": [2,5,8],\n",
    "            \"n_estimators\": [10,500,1000],\n",
    "            \"min_samples_split\": [2,5,10]}\n",
    "\n",
    "rf_model = RandomForestClassifier()\n",
    "\n",
    "rf_cv_model = GridSearchCV(rf_model, \n",
    "                           rf_params, \n",
    "                           cv = 10, \n",
    "                           n_jobs = -1, \n",
    "                           verbose = 2) \n",
    "\n",
    "rf_cv_model.fit(X_train, y_train)"
   ]
  },
  {
   "cell_type": "code",
   "execution_count": 304,
   "metadata": {},
   "outputs": [
    {
     "data": {
      "text/plain": [
       "{'max_depth': 2,\n",
       " 'max_features': 5,\n",
       " 'min_samples_split': 10,\n",
       " 'n_estimators': 500}"
      ]
     },
     "execution_count": 304,
     "metadata": {},
     "output_type": "execute_result"
    }
   ],
   "source": [
    "rf_cv_model.best_params_"
   ]
  },
  {
   "cell_type": "code",
   "execution_count": 317,
   "metadata": {},
   "outputs": [
    {
     "name": "stdout",
     "output_type": "stream",
     "text": [
      "ACC:  0.519434628975265\n"
     ]
    }
   ],
   "source": [
    "rf_tuned = RandomForestClassifier(max_depth=8, \n",
    "                                  max_features=2, \n",
    "                                  min_samples_split=2, #2\n",
    "                                  n_estimators=1000)\n",
    "\n",
    "rf_tuned.fit(X_train, y_train)\n",
    "\n",
    "y_pred = rf_tuned.predict(X_test)\n",
    "print(\"ACC: \", accuracy_score(y_test, y_pred))"
   ]
  },
  {
   "cell_type": "code",
   "execution_count": 318,
   "metadata": {},
   "outputs": [
    {
     "name": "stdout",
     "output_type": "stream",
     "text": [
      "[[  0 141]\n",
      " [  1 707]\n",
      " [  2 282]]\n"
     ]
    }
   ],
   "source": [
    "arr = rf_tuned.predict(X_train)\n",
    "unique, counts = np.unique(arr, return_counts=True)\n",
    "\n",
    "print(np.asarray((unique, counts)).T)"
   ]
  },
  {
   "cell_type": "code",
   "execution_count": null,
   "metadata": {},
   "outputs": [],
   "source": []
  },
  {
   "cell_type": "code",
   "execution_count": 166,
   "metadata": {},
   "outputs": [
    {
     "name": "stdout",
     "output_type": "stream",
     "text": [
      "Fitting 10 folds for each of 108 candidates, totalling 1080 fits\n"
     ]
    },
    {
     "data": {
      "text/plain": [
       "GridSearchCV(cv=10, estimator=GradientBoostingClassifier(), n_jobs=-1,\n",
       "             param_grid={'learning_rate': [0.001, 0.01, 0.1, 0.05],\n",
       "                         'max_depth': [3, 5, 10],\n",
       "                         'min_samples_split': [2, 5, 10],\n",
       "                         'n_estimators': [100, 500, 100]},\n",
       "             verbose=2)"
      ]
     },
     "execution_count": 166,
     "metadata": {},
     "output_type": "execute_result"
    }
   ],
   "source": [
    "gbm_params = {\"learning_rate\" : [0.001, 0.01, 0.1, 0.05],\n",
    "             \"n_estimators\": [100,500,100],\n",
    "             \"max_depth\": [3,5,10],\n",
    "             \"min_samples_split\": [2,5,10]}\n",
    "\n",
    "gbm = GradientBoostingClassifier()\n",
    "\n",
    "gbm_cv = GridSearchCV(gbm, gbm_params, cv = 10, n_jobs = -1, verbose = 2)\n",
    "\n",
    "gbm_cv.fit(X_train, y_train)"
   ]
  },
  {
   "cell_type": "code",
   "execution_count": 167,
   "metadata": {},
   "outputs": [
    {
     "data": {
      "text/plain": [
       "{'learning_rate': 0.05,\n",
       " 'max_depth': 3,\n",
       " 'min_samples_split': 2,\n",
       " 'n_estimators': 100}"
      ]
     },
     "execution_count": 167,
     "metadata": {},
     "output_type": "execute_result"
    }
   ],
   "source": [
    "gbm_cv.best_params_"
   ]
  },
  {
   "cell_type": "code",
   "execution_count": 328,
   "metadata": {},
   "outputs": [
    {
     "name": "stdout",
     "output_type": "stream",
     "text": [
      "TEST ACC:  0.5229681978798587\n",
      "TRAIN ACC:  0.5389380530973451\n"
     ]
    }
   ],
   "source": [
    "gbm = GradientBoostingClassifier(learning_rate=0.001, \n",
    "                                 max_depth=3,\n",
    "                                 min_samples_split=5,\n",
    "                                 n_estimators=500)\n",
    "\n",
    "gbm_tuned =  gbm.fit(X_train,y_train)\n",
    "y_pred = gbm_tuned.predict(X_test)\n",
    "print(\"TEST ACC: \", accuracy_score(y_test, y_pred))\n",
    "print(\"TRAIN ACC: \", accuracy_score(y_train, gbm_tuned.predict(X_train)))"
   ]
  },
  {
   "cell_type": "code",
   "execution_count": 329,
   "metadata": {},
   "outputs": [
    {
     "name": "stdout",
     "output_type": "stream",
     "text": [
      "[[  0  11]\n",
      " [  1 919]\n",
      " [  2 200]]\n"
     ]
    }
   ],
   "source": [
    "arr = gbm_tuned.predict(X_train)\n",
    "unique, counts = np.unique(arr, return_counts=True)\n",
    "\n",
    "print(np.asarray((unique, counts)).T)"
   ]
  },
  {
   "cell_type": "code",
   "execution_count": 321,
   "metadata": {},
   "outputs": [
    {
     "data": {
      "text/plain": [
       "1"
      ]
     },
     "execution_count": 321,
     "metadata": {},
     "output_type": "execute_result"
    }
   ],
   "source": [
    "x = df.iloc[-24].drop([\"result\"], axis=0)\n",
    "x.home = 1\n",
    "x.away = 1\n",
    "x.week = 10\n",
    "x.home_form = 2.4\n",
    "x.away_form = 2.25\n",
    "x.home_rank = 2.0\n",
    "x.away_rank = 9.0\n",
    "x\n",
    "gbm_tuned.predict((x,))[0]"
   ]
  },
  {
   "cell_type": "code",
   "execution_count": null,
   "metadata": {},
   "outputs": [],
   "source": []
  },
  {
   "cell_type": "code",
   "execution_count": 240,
   "metadata": {},
   "outputs": [
    {
     "data": {
      "text/plain": [
       "GaussianNB()"
      ]
     },
     "execution_count": 240,
     "metadata": {},
     "output_type": "execute_result"
    }
   ],
   "source": [
    "nb = GaussianNB()\n",
    "nb_model = nb.fit(X_train, y_train)\n",
    "nb_model"
   ]
  },
  {
   "cell_type": "code",
   "execution_count": 241,
   "metadata": {},
   "outputs": [
    {
     "data": {
      "text/plain": [
       "0.5017667844522968"
      ]
     },
     "execution_count": 241,
     "metadata": {},
     "output_type": "execute_result"
    }
   ],
   "source": [
    "y_pred = nb_model.predict(X_test)\n",
    "accuracy_score(y_test, y_pred)"
   ]
  },
  {
   "cell_type": "code",
   "execution_count": 242,
   "metadata": {},
   "outputs": [
    {
     "data": {
      "text/plain": [
       "0.49064039408867"
      ]
     },
     "execution_count": 242,
     "metadata": {},
     "output_type": "execute_result"
    }
   ],
   "source": [
    "cross_val_score(nb_model, X_test, y_test, cv = 10).mean()"
   ]
  },
  {
   "cell_type": "code",
   "execution_count": 243,
   "metadata": {},
   "outputs": [
    {
     "data": {
      "text/plain": [
       "0.4991150442477877"
      ]
     },
     "execution_count": 243,
     "metadata": {},
     "output_type": "execute_result"
    }
   ],
   "source": [
    "cross_val_score(nb_model, X_train, y_train, cv = 10).mean()"
   ]
  },
  {
   "cell_type": "code",
   "execution_count": 244,
   "metadata": {},
   "outputs": [
    {
     "data": {
      "text/plain": [
       "array([2, 1, 1, 1, 2, 1, 1, 2, 0, 1, 2, 1, 2, 0, 1, 2, 2, 2, 1, 1, 2, 2,\n",
       "       1, 2, 2, 2, 2, 1, 1, 1, 1, 2, 1, 2, 1, 1, 1, 1, 1, 1, 1, 1, 1, 2,\n",
       "       1, 1, 1, 1, 2, 1, 1, 1, 1, 1, 1, 2, 1, 1, 1, 2, 1, 2, 1, 1, 1, 1,\n",
       "       2, 1, 2, 2, 1, 1, 1, 1, 2, 1, 1, 2, 1, 2, 2, 1, 1, 0, 2, 2, 2, 1,\n",
       "       2, 1, 2, 2, 2, 1, 2, 2, 1, 1, 1, 1, 2, 2, 1, 1, 1, 1, 1, 1, 1, 1,\n",
       "       2, 2, 1, 1, 2, 1, 2, 1, 2, 2, 1, 2, 2, 2, 2, 0, 1, 2, 1, 1, 1, 2,\n",
       "       2, 1, 1, 2, 1, 2, 2, 1, 2, 2, 2, 1, 1, 1, 1, 2, 1, 2, 0, 1, 2, 1,\n",
       "       2, 1, 2, 2, 1, 1, 2, 1, 2, 2, 1, 1, 1, 1, 2, 2, 2, 1, 2, 2, 2, 2,\n",
       "       2, 1, 2, 2, 1, 2, 2, 1, 2, 1, 2, 1, 2, 1, 1, 1, 2, 1, 1, 1, 1, 2,\n",
       "       1, 1, 1, 2, 1, 1, 2, 2, 1, 1, 2, 1, 1, 1, 2, 1, 1, 0, 2, 2, 2, 1,\n",
       "       1, 2, 1, 2, 1, 2, 1, 1, 1, 2, 1, 1, 1, 1, 2, 1, 1, 2, 1, 1, 1, 2,\n",
       "       1, 1, 1, 2, 1, 2, 1, 1, 1, 1, 1, 1, 1, 1, 2, 2, 2, 2, 1, 2, 2, 2,\n",
       "       1, 2, 1, 2, 1, 1, 1, 2, 2, 2, 2, 2, 1, 1, 1, 1, 2, 2, 2],\n",
       "      dtype=int64)"
      ]
     },
     "execution_count": 244,
     "metadata": {},
     "output_type": "execute_result"
    }
   ],
   "source": [
    "nb_model.predict(X_test)"
   ]
  },
  {
   "cell_type": "code",
   "execution_count": 245,
   "metadata": {},
   "outputs": [
    {
     "name": "stdout",
     "output_type": "stream",
     "text": [
      "[[  0  27]\n",
      " [  1 659]\n",
      " [  2 444]]\n"
     ]
    }
   ],
   "source": [
    "arr = nb_model.predict(X_train)\n",
    "unique, counts = np.unique(arr, return_counts=True)\n",
    "\n",
    "print(np.asarray((unique, counts)).T)"
   ]
  },
  {
   "cell_type": "code",
   "execution_count": null,
   "metadata": {},
   "outputs": [],
   "source": []
  },
  {
   "cell_type": "code",
   "execution_count": 66,
   "metadata": {},
   "outputs": [
    {
     "data": {
      "text/plain": [
       "MLPClassifier()"
      ]
     },
     "execution_count": 66,
     "metadata": {},
     "output_type": "execute_result"
    }
   ],
   "source": [
    "from sklearn.neural_network import MLPClassifier\n",
    "mlpc = MLPClassifier().fit(X_train_scaled, y_train)\n",
    "mlpc"
   ]
  },
  {
   "cell_type": "code",
   "execution_count": 67,
   "metadata": {},
   "outputs": [
    {
     "data": {
      "text/plain": [
       "0.5676392572944297"
      ]
     },
     "execution_count": 67,
     "metadata": {},
     "output_type": "execute_result"
    }
   ],
   "source": [
    "y_pred = mlpc.predict(X_train_scaled)\n",
    "accuracy_score(y_train, y_pred)"
   ]
  },
  {
   "cell_type": "code",
   "execution_count": 68,
   "metadata": {},
   "outputs": [
    {
     "data": {
      "text/plain": [
       "0.5441696113074205"
      ]
     },
     "execution_count": 68,
     "metadata": {},
     "output_type": "execute_result"
    }
   ],
   "source": [
    "y_pred = mlpc.predict(X_test_scaled)\n",
    "accuracy_score(y_test, y_pred)"
   ]
  },
  {
   "cell_type": "code",
   "execution_count": 69,
   "metadata": {},
   "outputs": [
    {
     "name": "stdout",
     "output_type": "stream",
     "text": [
      "[[  0 129]\n",
      " [  1 717]\n",
      " [  2 285]]\n"
     ]
    }
   ],
   "source": [
    "arr = mlpc.predict(X_train_scaled)\n",
    "unique, counts = np.unique(arr, return_counts=True)\n",
    "\n",
    "print(np.asarray((unique, counts)).T)"
   ]
  },
  {
   "cell_type": "code",
   "execution_count": 45,
   "metadata": {},
   "outputs": [],
   "source": [
    "mlpc_params = {\"alpha\": [0.1, 0.01, 0.02, 0.005, 0.0001,0.00001],\n",
    "              \"hidden_layer_sizes\": [(10,10,10),\n",
    "                                     (100,100,100),\n",
    "                                     (100,100),\n",
    "                                     (3,5), \n",
    "                                     (5, 3)],\n",
    "              \"solver\" : [\"lbfgs\",\"adam\",\"sgd\"],\n",
    "              \"activation\": [\"relu\"]}"
   ]
  },
  {
   "cell_type": "code",
   "execution_count": 46,
   "metadata": {},
   "outputs": [
    {
     "name": "stdout",
     "output_type": "stream",
     "text": [
      "Fitting 10 folds for each of 90 candidates, totalling 900 fits\n"
     ]
    },
    {
     "data": {
      "text/plain": [
       "GridSearchCV(cv=10, estimator=MLPClassifier(), n_jobs=-1,\n",
       "             param_grid={'activation': ['relu'],\n",
       "                         'alpha': [0.1, 0.01, 0.02, 0.005, 0.0001, 1e-05],\n",
       "                         'hidden_layer_sizes': [(10, 10, 10), (100, 100, 100),\n",
       "                                                (100, 100), (3, 5), (5, 3)],\n",
       "                         'solver': ['lbfgs', 'adam', 'sgd']},\n",
       "             verbose=2)"
      ]
     },
     "execution_count": 46,
     "metadata": {},
     "output_type": "execute_result"
    }
   ],
   "source": [
    "mlpc = MLPClassifier()\n",
    "mlpc_cv_model = GridSearchCV(mlpc, mlpc_params, \n",
    "                         cv = 10, \n",
    "                         n_jobs = -1,\n",
    "                         verbose = 2)\n",
    "\n",
    "mlpc_cv_model.fit(X_train_scaled, y_train)"
   ]
  },
  {
   "cell_type": "code",
   "execution_count": 48,
   "metadata": {},
   "outputs": [
    {
     "data": {
      "text/plain": [
       "{'activation': 'relu',\n",
       " 'alpha': 1e-05,\n",
       " 'hidden_layer_sizes': (3, 5),\n",
       " 'solver': 'adam'}"
      ]
     },
     "execution_count": 48,
     "metadata": {},
     "output_type": "execute_result"
    }
   ],
   "source": [
    "mlpc_cv_model.best_params_"
   ]
  },
  {
   "cell_type": "code",
   "execution_count": 61,
   "metadata": {},
   "outputs": [],
   "source": [
    "mlpc_tuned = MLPClassifier(activation = \"relu\", \n",
    "                           alpha = 1e-05, \n",
    "                           hidden_layer_sizes = (3,5),\n",
    "                           solver = \"adam\")"
   ]
  },
  {
   "cell_type": "code",
   "execution_count": 62,
   "metadata": {},
   "outputs": [
    {
     "data": {
      "text/plain": [
       "MLPClassifier(alpha=1e-05, hidden_layer_sizes=(3, 5))"
      ]
     },
     "execution_count": 62,
     "metadata": {},
     "output_type": "execute_result"
    }
   ],
   "source": [
    "mlpc_tuned.fit(X_train_scaled, y_train)"
   ]
  },
  {
   "cell_type": "code",
   "execution_count": 63,
   "metadata": {},
   "outputs": [
    {
     "data": {
      "text/plain": [
       "0.4916003536693192"
      ]
     },
     "execution_count": 63,
     "metadata": {},
     "output_type": "execute_result"
    }
   ],
   "source": [
    "y_pred = mlpc_tuned.predict(X_train_scaled)\n",
    "accuracy_score(y_train, y_pred)"
   ]
  },
  {
   "cell_type": "code",
   "execution_count": 64,
   "metadata": {},
   "outputs": [
    {
     "data": {
      "text/plain": [
       "0.5618374558303887"
      ]
     },
     "execution_count": 64,
     "metadata": {},
     "output_type": "execute_result"
    }
   ],
   "source": [
    "y_pred = mlpc_tuned.predict(X_test_scaled)\n",
    "accuracy_score(y_test, y_pred)"
   ]
  },
  {
   "cell_type": "code",
   "execution_count": 65,
   "metadata": {},
   "outputs": [
    {
     "name": "stdout",
     "output_type": "stream",
     "text": [
      "[[  0   3]\n",
      " [  1 760]\n",
      " [  2 368]]\n"
     ]
    }
   ],
   "source": [
    "arr = mlpc_tuned.predict(X_train_scaled)\n",
    "unique, counts = np.unique(arr, return_counts=True)\n",
    "\n",
    "print(np.asarray((unique, counts)).T)"
   ]
  },
  {
   "cell_type": "code",
   "execution_count": null,
   "metadata": {},
   "outputs": [],
   "source": []
  }
 ],
 "metadata": {
  "kernelspec": {
   "display_name": "Python 3 (ipykernel)",
   "language": "python",
   "name": "python3"
  },
  "language_info": {
   "codemirror_mode": {
    "name": "ipython",
    "version": 3
   },
   "file_extension": ".py",
   "mimetype": "text/x-python",
   "name": "python",
   "nbconvert_exporter": "python",
   "pygments_lexer": "ipython3",
   "version": "3.9.7"
  }
 },
 "nbformat": 4,
 "nbformat_minor": 4
}
